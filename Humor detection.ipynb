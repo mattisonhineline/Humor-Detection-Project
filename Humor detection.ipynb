{
 "cells": [
  {
   "cell_type": "markdown",
   "metadata": {},
   "source": [
    "# Humor Detection in Online Product Questions\n",
    "---------\n",
    "\n",
    "*First data science project done my Mattison Hineline* \n",
    "\n",
    "An introductory project to determine humor in online product questions using NLP.\n",
    "\n",
    "_______\n",
    "\n",
    "## Data Location and Registry\n",
    "\n",
    "https://registry.opendata.aws/humor-detection/\n",
    "\n",
    "The dataset contains 3 csv file where each row corresponds to a product question.\n",
    "1. Humorous.csv - contains the humorous product questions, link for direct download - https://humor-detection-pds.s3-us-west-2.amazonaws.com/Humorous.csv\n",
    "2. Non-humorous-unbiased.csv - contains the non-humorous prodcut questions, from the same products as the humorous one, link for direct download -  https://humor-detection-pds.s3-us-west-2.amazonaws.com/Non-humorous-unbiased.csv\n",
    "3. Non-humorous-biased.csv - contains the non-humorous prodcut questions, from randomly selected products, link for direct download -  https://humor-detection-pds.s3-us-west-2.amazonaws.com/Non-humours-biased.csv\n",
    "\n",
    "All files have the same structure\n",
    "\n",
    "The columns are:\n",
    "- question: the question text\n",
    "- product_description: short description of the product.\n",
    "- image_url: url for the prodcut image.\n",
    "- label: 1 if the product question is humorous, 0 otherwise.\n",
    "\n",
    "Data set links:\n",
    "- https://humor-detection-pds.s3-us-west-2.amazonaws.com/Humorous.csv\n",
    "- https://humor-detection-pds.s3-us-west-2.amazonaws.com/Non-humorous-unbiased.csv\n",
    "- https://humor-detection-pds.s3-us-west-2.amazonaws.com/Non-humours-biased.csv\n",
    "\n",
    "______"
   ]
  },
  {
   "cell_type": "markdown",
   "metadata": {},
   "source": [
    "## Import Libraries"
   ]
  },
  {
   "cell_type": "code",
   "execution_count": 1,
   "metadata": {},
   "outputs": [],
   "source": [
    "# import libraries\n",
    "import numpy as np\n",
    "import pandas as pd\n",
    "import matplotlib.pyplot as plt\n",
    "import seaborn as sns\n",
    "from mpl_toolkits import mplot3d\n",
    "\n",
    "#work with text \n",
    "import re\n",
    "from textblob import TextBlob\n",
    "import nltk.corpus\n",
    "from nltk.corpus import stopwords\n",
    "from nltk.stem import WordNetLemmatizer\n",
    "from nltk.stem.porter import PorterStemmer\n",
    "import enchant\n",
    "import splitter\n",
    "from manual_spellchecker import spell_checker\n",
    "from nltk.sentiment import SentimentIntensityAnalyzer\n",
    "\n",
    "#modeling\n",
    "from sklearn.model_selection import train_test_split\n",
    "from sklearn.linear_model import LinearRegression\n",
    "from sklearn import metrics\n",
    "from sklearn.cluster import KMeans\n",
    "from sklearn.metrics import classification_report, accuracy_score, confusion_matrix, classification_report\n",
    "from sklearn.ensemble import RandomForestRegressor\n",
    "from sklearn.tree import export_graphviz\n",
    "import pydot\n",
    "from sklearn.preprocessing import StandardScaler\n"
   ]
  },
  {
   "cell_type": "markdown",
   "metadata": {},
   "source": [
    "-----\n",
    "## Import Data and Initial Look"
   ]
  },
  {
   "cell_type": "code",
   "execution_count": 2,
   "metadata": {},
   "outputs": [],
   "source": [
    "#import dataset\n",
    "humorous = pd.read_csv('https://humor-detection-pds.s3-us-west-2.amazonaws.com/Humorous.csv')\n",
    "non_humorous_unbiased = pd.read_csv('https://humor-detection-pds.s3-us-west-2.amazonaws.com/Non-humorous-unbiased.csv')"
   ]
  },
  {
   "cell_type": "code",
   "execution_count": 3,
   "metadata": {},
   "outputs": [
    {
     "name": "stdout",
     "output_type": "stream",
     "text": [
      "humorous\n"
     ]
    },
    {
     "data": {
      "text/html": [
       "<div>\n",
       "<style scoped>\n",
       "    .dataframe tbody tr th:only-of-type {\n",
       "        vertical-align: middle;\n",
       "    }\n",
       "\n",
       "    .dataframe tbody tr th {\n",
       "        vertical-align: top;\n",
       "    }\n",
       "\n",
       "    .dataframe thead th {\n",
       "        text-align: right;\n",
       "    }\n",
       "</style>\n",
       "<table border=\"1\" class=\"dataframe\">\n",
       "  <thead>\n",
       "    <tr style=\"text-align: right;\">\n",
       "      <th></th>\n",
       "      <th>question</th>\n",
       "      <th>product_description</th>\n",
       "      <th>image_url</th>\n",
       "      <th>label</th>\n",
       "    </tr>\n",
       "  </thead>\n",
       "  <tbody>\n",
       "    <tr>\n",
       "      <th>0</th>\n",
       "      <td>Will the volca sample get me a girlfriend?</td>\n",
       "      <td>Korg Amplifier Part VOLCASAMPLE</td>\n",
       "      <td>http://ecx.images-amazon.com/images/I/81I1XZea...</td>\n",
       "      <td>1</td>\n",
       "    </tr>\n",
       "    <tr>\n",
       "      <th>1</th>\n",
       "      <td>Can u communicate with spirits even on Saturday?</td>\n",
       "      <td>Winning Moves Games Classic Ouija</td>\n",
       "      <td>http://ecx.images-amazon.com/images/I/81kcYEG5...</td>\n",
       "      <td>1</td>\n",
       "    </tr>\n",
       "    <tr>\n",
       "      <th>2</th>\n",
       "      <td>I won't get hunted right?</td>\n",
       "      <td>Winning Moves Games Classic Ouija</td>\n",
       "      <td>http://ecx.images-amazon.com/images/I/81kcYEG5...</td>\n",
       "      <td>1</td>\n",
       "    </tr>\n",
       "    <tr>\n",
       "      <th>3</th>\n",
       "      <td>I have a few questions.. Can you get possessed...</td>\n",
       "      <td>Winning Moves Games Classic Ouija</td>\n",
       "      <td>http://ecx.images-amazon.com/images/I/81kcYEG5...</td>\n",
       "      <td>1</td>\n",
       "    </tr>\n",
       "    <tr>\n",
       "      <th>4</th>\n",
       "      <td>Has anyone asked where the treasure is? What w...</td>\n",
       "      <td>Winning Moves Games Classic Ouija</td>\n",
       "      <td>http://ecx.images-amazon.com/images/I/81kcYEG5...</td>\n",
       "      <td>1</td>\n",
       "    </tr>\n",
       "  </tbody>\n",
       "</table>\n",
       "</div>"
      ],
      "text/plain": [
       "                                            question  \\\n",
       "0         Will the volca sample get me a girlfriend?   \n",
       "1   Can u communicate with spirits even on Saturday?   \n",
       "2                          I won't get hunted right?   \n",
       "3  I have a few questions.. Can you get possessed...   \n",
       "4  Has anyone asked where the treasure is? What w...   \n",
       "\n",
       "                 product_description  \\\n",
       "0    Korg Amplifier Part VOLCASAMPLE   \n",
       "1  Winning Moves Games Classic Ouija   \n",
       "2  Winning Moves Games Classic Ouija   \n",
       "3  Winning Moves Games Classic Ouija   \n",
       "4  Winning Moves Games Classic Ouija   \n",
       "\n",
       "                                           image_url  label  \n",
       "0  http://ecx.images-amazon.com/images/I/81I1XZea...      1  \n",
       "1  http://ecx.images-amazon.com/images/I/81kcYEG5...      1  \n",
       "2  http://ecx.images-amazon.com/images/I/81kcYEG5...      1  \n",
       "3  http://ecx.images-amazon.com/images/I/81kcYEG5...      1  \n",
       "4  http://ecx.images-amazon.com/images/I/81kcYEG5...      1  "
      ]
     },
     "execution_count": 3,
     "metadata": {},
     "output_type": "execute_result"
    }
   ],
   "source": [
    "print('humorous')\n",
    "humorous.head()"
   ]
  },
  {
   "cell_type": "code",
   "execution_count": 4,
   "metadata": {},
   "outputs": [
    {
     "name": "stdout",
     "output_type": "stream",
     "text": [
      "non_humorous_unbiased\n"
     ]
    },
    {
     "data": {
      "text/html": [
       "<div>\n",
       "<style scoped>\n",
       "    .dataframe tbody tr th:only-of-type {\n",
       "        vertical-align: middle;\n",
       "    }\n",
       "\n",
       "    .dataframe tbody tr th {\n",
       "        vertical-align: top;\n",
       "    }\n",
       "\n",
       "    .dataframe thead th {\n",
       "        text-align: right;\n",
       "    }\n",
       "</style>\n",
       "<table border=\"1\" class=\"dataframe\">\n",
       "  <thead>\n",
       "    <tr style=\"text-align: right;\">\n",
       "      <th></th>\n",
       "      <th>question</th>\n",
       "      <th>product_description</th>\n",
       "      <th>image_url</th>\n",
       "      <th>label</th>\n",
       "    </tr>\n",
       "  </thead>\n",
       "  <tbody>\n",
       "    <tr>\n",
       "      <th>0</th>\n",
       "      <td>Is AudioPocket only for iPhone (recording soun...</td>\n",
       "      <td>Korg Amplifier Part VOLCASAMPLE</td>\n",
       "      <td>http://ecx.images-amazon.com/images/I/81I1XZea...</td>\n",
       "      <td>0</td>\n",
       "    </tr>\n",
       "    <tr>\n",
       "      <th>1</th>\n",
       "      <td>Standard shipping takes how long?</td>\n",
       "      <td>Winning Moves Games Classic Ouija</td>\n",
       "      <td>http://ecx.images-amazon.com/images/I/81kcYEG5...</td>\n",
       "      <td>0</td>\n",
       "    </tr>\n",
       "    <tr>\n",
       "      <th>2</th>\n",
       "      <td>Can I use this my self?</td>\n",
       "      <td>Winning Moves Games Classic Ouija</td>\n",
       "      <td>http://ecx.images-amazon.com/images/I/81kcYEG5...</td>\n",
       "      <td>0</td>\n",
       "    </tr>\n",
       "    <tr>\n",
       "      <th>3</th>\n",
       "      <td>If the felt comes off the guide can I return i...</td>\n",
       "      <td>Winning Moves Games Classic Ouija</td>\n",
       "      <td>http://ecx.images-amazon.com/images/I/81kcYEG5...</td>\n",
       "      <td>0</td>\n",
       "    </tr>\n",
       "    <tr>\n",
       "      <th>4</th>\n",
       "      <td>Does it acually work?</td>\n",
       "      <td>Winning Moves Games Classic Ouija</td>\n",
       "      <td>http://ecx.images-amazon.com/images/I/81kcYEG5...</td>\n",
       "      <td>0</td>\n",
       "    </tr>\n",
       "  </tbody>\n",
       "</table>\n",
       "</div>"
      ],
      "text/plain": [
       "                                            question  \\\n",
       "0  Is AudioPocket only for iPhone (recording soun...   \n",
       "1                  Standard shipping takes how long?   \n",
       "2                            Can I use this my self?   \n",
       "3  If the felt comes off the guide can I return i...   \n",
       "4                              Does it acually work?   \n",
       "\n",
       "                 product_description  \\\n",
       "0    Korg Amplifier Part VOLCASAMPLE   \n",
       "1  Winning Moves Games Classic Ouija   \n",
       "2  Winning Moves Games Classic Ouija   \n",
       "3  Winning Moves Games Classic Ouija   \n",
       "4  Winning Moves Games Classic Ouija   \n",
       "\n",
       "                                           image_url  label  \n",
       "0  http://ecx.images-amazon.com/images/I/81I1XZea...      0  \n",
       "1  http://ecx.images-amazon.com/images/I/81kcYEG5...      0  \n",
       "2  http://ecx.images-amazon.com/images/I/81kcYEG5...      0  \n",
       "3  http://ecx.images-amazon.com/images/I/81kcYEG5...      0  \n",
       "4  http://ecx.images-amazon.com/images/I/81kcYEG5...      0  "
      ]
     },
     "execution_count": 4,
     "metadata": {},
     "output_type": "execute_result"
    }
   ],
   "source": [
    "print('non_humorous_unbiased')\n",
    "non_humorous_unbiased.head()"
   ]
  },
  {
   "cell_type": "code",
   "execution_count": 5,
   "metadata": {},
   "outputs": [
    {
     "name": "stdout",
     "output_type": "stream",
     "text": [
      "<class 'pandas.core.frame.DataFrame'>\n",
      "RangeIndex: 9571 entries, 0 to 9570\n",
      "Data columns (total 4 columns):\n",
      " #   Column               Non-Null Count  Dtype \n",
      "---  ------               --------------  ----- \n",
      " 0   question             9571 non-null   object\n",
      " 1   product_description  9547 non-null   object\n",
      " 2   image_url            9230 non-null   object\n",
      " 3   label                9571 non-null   int64 \n",
      "dtypes: int64(1), object(3)\n",
      "memory usage: 299.2+ KB\n"
     ]
    },
    {
     "data": {
      "text/plain": [
       "24"
      ]
     },
     "execution_count": 5,
     "metadata": {},
     "output_type": "execute_result"
    }
   ],
   "source": [
    "#inital look at humorous\n",
    "humorous.describe()\n",
    "humorous.info()\n",
    "humorous.columns\n",
    "humorous['product_description'].isna().sum()"
   ]
  },
  {
   "cell_type": "markdown",
   "metadata": {},
   "source": [
    "#### 'humorous' Dataset\n",
    "\n",
    "We have no missing values for the question and label columns, which is what we will be focusing on in this project. We have 24 (0.25%) missing values for product_description and 317 (3.31%) missing values for image_url. Since we are unsure if we will use these columns later at this point, we will leave these missing values in the dataset.  "
   ]
  },
  {
   "cell_type": "code",
   "execution_count": 6,
   "metadata": {},
   "outputs": [
    {
     "name": "stdout",
     "output_type": "stream",
     "text": [
      "<class 'pandas.core.frame.DataFrame'>\n",
      "RangeIndex: 9571 entries, 0 to 9570\n",
      "Data columns (total 4 columns):\n",
      " #   Column               Non-Null Count  Dtype \n",
      "---  ------               --------------  ----- \n",
      " 0   question             9571 non-null   object\n",
      " 1   product_description  9547 non-null   object\n",
      " 2   image_url            9230 non-null   object\n",
      " 3   label                9571 non-null   int64 \n",
      "dtypes: int64(1), object(3)\n",
      "memory usage: 299.2+ KB\n"
     ]
    },
    {
     "data": {
      "text/plain": [
       "Index(['question', 'product_description', 'image_url', 'label'], dtype='object')"
      ]
     },
     "execution_count": 6,
     "metadata": {},
     "output_type": "execute_result"
    }
   ],
   "source": [
    "non_humorous_unbiased.describe()\n",
    "non_humorous_unbiased.info()\n",
    "non_humorous_unbiased.columns"
   ]
  },
  {
   "cell_type": "markdown",
   "metadata": {},
   "source": [
    "#### 'non_humorous_unbiased' Dataset\n",
    "This is the same products as the humorous dataset and therefore we are not surprised when we find the same missing value information as before. \n",
    "\n",
    "We have no missing values for the question and label columns, which is what we will be focusing on in this project. We have 24 (0.25%) missing values for product_description and 317 (3.31%) missing values for image_url. Since we are unsure if we will use these columns later at this point, we will leave these missing values in the dataset.  "
   ]
  },
  {
   "cell_type": "markdown",
   "metadata": {},
   "source": [
    "-----\n",
    "## Exploratory Analysis\n",
    "\n",
    "Things to do:\n",
    "1. convert all letters to lowercase\n",
    "2. deal with joined and misspelled words (replace punctuation with \" \")\n",
    "3. remove filler and small words (stop words) in 'question'\n",
    "4. find most common question words - could make a df with common words and count for humor vs. non (word, count humor, count non ---> tokenizing?)\n",
    "5. plot data to explore \n",
    "6. Should we look at the product too? \n",
    "\n",
    "First, we will combine the 'humorous_unbiased' (saved as just 'humorous') and 'non_humorous_unbiased' dataframes so that we can work with 1 (humor marker) and 0 (non-humorous marker) all at once. We want both dataset to have the same transformations to result in the best models later."
   ]
  },
  {
   "cell_type": "code",
   "execution_count": 7,
   "metadata": {},
   "outputs": [],
   "source": [
    "#combine dataframes\n",
    "combined_df = pd.concat([humorous, non_humorous_unbiased], ignore_index=True)"
   ]
  },
  {
   "cell_type": "markdown",
   "metadata": {},
   "source": [
    "Since we have decided we will not be using the image links given, we will delete the image_url columns as they are not pertinent to this project."
   ]
  },
  {
   "cell_type": "code",
   "execution_count": 8,
   "metadata": {},
   "outputs": [],
   "source": [
    "#drop image_url column\n",
    "combined_df.drop(['image_url'], axis=1, inplace=True)"
   ]
  },
  {
   "cell_type": "markdown",
   "metadata": {},
   "source": [
    "Now we will begin working with the text data. We will need to clean up and make the text easier to work with."
   ]
  },
  {
   "cell_type": "code",
   "execution_count": 9,
   "metadata": {},
   "outputs": [],
   "source": [
    "# remove extra spaces and punctuatinon\n",
    "combined_df['q_no_punctuation'] = combined_df['question'].apply(lambda row: re.sub(r'[^\\w\\s]+', \" \", row))\n",
    "combined_df['clean'] = combined_df['q_no_punctuation'].apply(lambda row: re.sub(r'\\b\\w{1,3}\\b', '', row))"
   ]
  },
  {
   "cell_type": "code",
   "execution_count": 10,
   "metadata": {},
   "outputs": [
    {
     "name": "stderr",
     "output_type": "stream",
     "text": [
      "<ipython-input-10-bcc0dc2f68c7>:9: FutureWarning: The default value of regex will change from True to False in a future version.\n",
      "  combined_df['clean > 3'] = combined_df['clean'].str.replace(r'\\b(\\w{1,3})\\b', '')\n"
     ]
    }
   ],
   "source": [
    "#remove small words\n",
    "stop_words = stopwords.words('english')\n",
    "combined_df['clean'] = combined_df['q_no_punctuation'].apply(lambda x: ' '.join([word for word in x.split() if word not in (stop_words)]))\n",
    "\n",
    "# convert all letters to lowercase\n",
    "combined_df['clean'] = combined_df['clean'].str.lower()\n",
    "\n",
    "# remove words less than/equal to 3 letters \n",
    "combined_df['clean > 3'] = combined_df['clean'].str.replace(r'\\b(\\w{1,3})\\b', '')"
   ]
  },
  {
   "cell_type": "markdown",
   "metadata": {},
   "source": [
    "Once we have the text ready, we will then tokenize it to be able to run models on it later, and also to visualize it too."
   ]
  },
  {
   "cell_type": "code",
   "execution_count": 11,
   "metadata": {},
   "outputs": [],
   "source": [
    "# define tokenize function\n",
    "def tokenization(text):\n",
    "    tokens = re.split('\\W+', text)\n",
    "    return tokens"
   ]
  },
  {
   "cell_type": "code",
   "execution_count": 12,
   "metadata": {},
   "outputs": [],
   "source": [
    "# run tokenize function\n",
    "combined_df['tokenized'] = combined_df['clean > 3'].apply(lambda row: tokenization(row))\n",
    "for row in combined_df['tokenized']:\n",
    "    for word in row:\n",
    "        if word == '': \n",
    "            row.pop(row.index(word))"
   ]
  },
  {
   "cell_type": "markdown",
   "metadata": {},
   "source": [
    "Now we have the words split up. We can do processes on the data now. We can lemmatize or stem the data. Lemmatization will keep the meanings of words more them stemming, which will bring each word to its root word. "
   ]
  },
  {
   "cell_type": "code",
   "execution_count": 13,
   "metadata": {},
   "outputs": [],
   "source": [
    "# define lemmatizer function\n",
    "wordnet_lemmatizer = WordNetLemmatizer()\n",
    "def lemmatizer(text): \n",
    "    l_text = [wordnet_lemmatizer.lemmatize(word) for word in text]\n",
    "    return l_text"
   ]
  },
  {
   "cell_type": "code",
   "execution_count": 14,
   "metadata": {},
   "outputs": [],
   "source": [
    "# run lemmatizer function\n",
    "combined_df['lemmatized'] = combined_df['tokenized'].apply(lambda row: lemmatizer(row))"
   ]
  },
  {
   "cell_type": "code",
   "execution_count": 15,
   "metadata": {},
   "outputs": [],
   "source": [
    "# define stemming function \n",
    "porter_stemmer = PorterStemmer()\n",
    "def stemming(text):\n",
    "    stemmed = [porter_stemmer.stem(word) for word in text]\n",
    "    return stemmed"
   ]
  },
  {
   "cell_type": "code",
   "execution_count": 16,
   "metadata": {},
   "outputs": [],
   "source": [
    "# run stemming function\n",
    "combined_df['stemmed'] = combined_df['tokenized'].apply(lambda row: stemming(row))"
   ]
  },
  {
   "cell_type": "markdown",
   "metadata": {},
   "source": [
    "Let's take a look at what we have now"
   ]
  },
  {
   "cell_type": "code",
   "execution_count": 17,
   "metadata": {},
   "outputs": [
    {
     "data": {
      "text/html": [
       "<div>\n",
       "<style scoped>\n",
       "    .dataframe tbody tr th:only-of-type {\n",
       "        vertical-align: middle;\n",
       "    }\n",
       "\n",
       "    .dataframe tbody tr th {\n",
       "        vertical-align: top;\n",
       "    }\n",
       "\n",
       "    .dataframe thead th {\n",
       "        text-align: right;\n",
       "    }\n",
       "</style>\n",
       "<table border=\"1\" class=\"dataframe\">\n",
       "  <thead>\n",
       "    <tr style=\"text-align: right;\">\n",
       "      <th></th>\n",
       "      <th>question</th>\n",
       "      <th>product_description</th>\n",
       "      <th>label</th>\n",
       "      <th>q_no_punctuation</th>\n",
       "      <th>clean</th>\n",
       "      <th>clean &gt; 3</th>\n",
       "      <th>tokenized</th>\n",
       "      <th>lemmatized</th>\n",
       "      <th>stemmed</th>\n",
       "    </tr>\n",
       "  </thead>\n",
       "  <tbody>\n",
       "    <tr>\n",
       "      <th>0</th>\n",
       "      <td>Will the volca sample get me a girlfriend?</td>\n",
       "      <td>Korg Amplifier Part VOLCASAMPLE</td>\n",
       "      <td>1</td>\n",
       "      <td>Will the volca sample get me a girlfriend</td>\n",
       "      <td>will volca sample get girlfriend</td>\n",
       "      <td>will volca sample  girlfriend</td>\n",
       "      <td>[will, volca, sample, girlfriend]</td>\n",
       "      <td>[will, volca, sample, girlfriend]</td>\n",
       "      <td>[will, volca, sampl, girlfriend]</td>\n",
       "    </tr>\n",
       "    <tr>\n",
       "      <th>1</th>\n",
       "      <td>Can u communicate with spirits even on Saturday?</td>\n",
       "      <td>Winning Moves Games Classic Ouija</td>\n",
       "      <td>1</td>\n",
       "      <td>Can u communicate with spirits even on Saturday</td>\n",
       "      <td>can u communicate spirits even saturday</td>\n",
       "      <td>communicate spirits even saturday</td>\n",
       "      <td>[communicate, spirits, even, saturday]</td>\n",
       "      <td>[communicate, spirit, even, saturday]</td>\n",
       "      <td>[commun, spirit, even, saturday]</td>\n",
       "    </tr>\n",
       "    <tr>\n",
       "      <th>2</th>\n",
       "      <td>I won't get hunted right?</td>\n",
       "      <td>Winning Moves Games Classic Ouija</td>\n",
       "      <td>1</td>\n",
       "      <td>I won t get hunted right</td>\n",
       "      <td>i get hunted right</td>\n",
       "      <td>hunted right</td>\n",
       "      <td>[hunted, right]</td>\n",
       "      <td>[hunted, right]</td>\n",
       "      <td>[hunt, right]</td>\n",
       "    </tr>\n",
       "    <tr>\n",
       "      <th>3</th>\n",
       "      <td>I have a few questions.. Can you get possessed...</td>\n",
       "      <td>Winning Moves Games Classic Ouija</td>\n",
       "      <td>1</td>\n",
       "      <td>I have a few questions  Can you get possessed ...</td>\n",
       "      <td>i questions can get possessed can age older 13</td>\n",
       "      <td>questions   possessed   older</td>\n",
       "      <td>[questions, possessed, older]</td>\n",
       "      <td>[question, possessed, older]</td>\n",
       "      <td>[question, possess, older]</td>\n",
       "    </tr>\n",
       "    <tr>\n",
       "      <th>4</th>\n",
       "      <td>Has anyone asked where the treasure is? What w...</td>\n",
       "      <td>Winning Moves Games Classic Ouija</td>\n",
       "      <td>1</td>\n",
       "      <td>Has anyone asked where the treasure is  What w...</td>\n",
       "      <td>has anyone asked treasure what answer received</td>\n",
       "      <td>anyone asked treasure what answer received</td>\n",
       "      <td>[anyone, asked, treasure, what, answer, received]</td>\n",
       "      <td>[anyone, asked, treasure, what, answer, received]</td>\n",
       "      <td>[anyon, ask, treasur, what, answer, receiv]</td>\n",
       "    </tr>\n",
       "  </tbody>\n",
       "</table>\n",
       "</div>"
      ],
      "text/plain": [
       "                                            question  \\\n",
       "0         Will the volca sample get me a girlfriend?   \n",
       "1   Can u communicate with spirits even on Saturday?   \n",
       "2                          I won't get hunted right?   \n",
       "3  I have a few questions.. Can you get possessed...   \n",
       "4  Has anyone asked where the treasure is? What w...   \n",
       "\n",
       "                 product_description  label  \\\n",
       "0    Korg Amplifier Part VOLCASAMPLE      1   \n",
       "1  Winning Moves Games Classic Ouija      1   \n",
       "2  Winning Moves Games Classic Ouija      1   \n",
       "3  Winning Moves Games Classic Ouija      1   \n",
       "4  Winning Moves Games Classic Ouija      1   \n",
       "\n",
       "                                    q_no_punctuation  \\\n",
       "0         Will the volca sample get me a girlfriend    \n",
       "1   Can u communicate with spirits even on Saturday    \n",
       "2                          I won t get hunted right    \n",
       "3  I have a few questions  Can you get possessed ...   \n",
       "4  Has anyone asked where the treasure is  What w...   \n",
       "\n",
       "                                            clean  \\\n",
       "0                will volca sample get girlfriend   \n",
       "1         can u communicate spirits even saturday   \n",
       "2                              i get hunted right   \n",
       "3  i questions can get possessed can age older 13   \n",
       "4  has anyone asked treasure what answer received   \n",
       "\n",
       "                                     clean > 3  \\\n",
       "0                will volca sample  girlfriend   \n",
       "1            communicate spirits even saturday   \n",
       "2                                 hunted right   \n",
       "3               questions   possessed   older    \n",
       "4   anyone asked treasure what answer received   \n",
       "\n",
       "                                           tokenized  \\\n",
       "0                  [will, volca, sample, girlfriend]   \n",
       "1             [communicate, spirits, even, saturday]   \n",
       "2                                    [hunted, right]   \n",
       "3                      [questions, possessed, older]   \n",
       "4  [anyone, asked, treasure, what, answer, received]   \n",
       "\n",
       "                                          lemmatized  \\\n",
       "0                  [will, volca, sample, girlfriend]   \n",
       "1              [communicate, spirit, even, saturday]   \n",
       "2                                    [hunted, right]   \n",
       "3                       [question, possessed, older]   \n",
       "4  [anyone, asked, treasure, what, answer, received]   \n",
       "\n",
       "                                       stemmed  \n",
       "0             [will, volca, sampl, girlfriend]  \n",
       "1             [commun, spirit, even, saturday]  \n",
       "2                                [hunt, right]  \n",
       "3                   [question, possess, older]  \n",
       "4  [anyon, ask, treasur, what, answer, receiv]  "
      ]
     },
     "execution_count": 17,
     "metadata": {},
     "output_type": "execute_result"
    }
   ],
   "source": [
    "combined_df.head()"
   ]
  },
  {
   "cell_type": "code",
   "execution_count": 18,
   "metadata": {},
   "outputs": [
    {
     "data": {
      "text/html": [
       "<div>\n",
       "<style scoped>\n",
       "    .dataframe tbody tr th:only-of-type {\n",
       "        vertical-align: middle;\n",
       "    }\n",
       "\n",
       "    .dataframe tbody tr th {\n",
       "        vertical-align: top;\n",
       "    }\n",
       "\n",
       "    .dataframe thead th {\n",
       "        text-align: right;\n",
       "    }\n",
       "</style>\n",
       "<table border=\"1\" class=\"dataframe\">\n",
       "  <thead>\n",
       "    <tr style=\"text-align: right;\">\n",
       "      <th></th>\n",
       "      <th>question</th>\n",
       "      <th>product_description</th>\n",
       "      <th>label</th>\n",
       "      <th>q_no_punctuation</th>\n",
       "      <th>clean</th>\n",
       "      <th>clean &gt; 3</th>\n",
       "      <th>tokenized</th>\n",
       "      <th>lemmatized</th>\n",
       "      <th>stemmed</th>\n",
       "    </tr>\n",
       "  </thead>\n",
       "  <tbody>\n",
       "    <tr>\n",
       "      <th>19137</th>\n",
       "      <td>Serve na f800r 2013?</td>\n",
       "      <td>Puig 5051F Dark Smoke New Generation Windshield</td>\n",
       "      <td>0</td>\n",
       "      <td>Serve na f800r 2013</td>\n",
       "      <td>serve na f800r 2013</td>\n",
       "      <td>serve  f800r 2013</td>\n",
       "      <td>[serve, f800r, 2013]</td>\n",
       "      <td>[serve, f800r, 2013]</td>\n",
       "      <td>[serv, f800r, 2013]</td>\n",
       "    </tr>\n",
       "    <tr>\n",
       "      <th>19138</th>\n",
       "      <td>Can it run mine sweeper abve 10 fps?</td>\n",
       "      <td>SkyTech Supremacy Gaming Computer PC Desktop -...</td>\n",
       "      <td>0</td>\n",
       "      <td>Can it run mine sweeper abve 10 fps</td>\n",
       "      <td>can run mine sweeper abve 10 fps</td>\n",
       "      <td>mine sweeper abve</td>\n",
       "      <td>[mine, sweeper, abve]</td>\n",
       "      <td>[mine, sweeper, abve]</td>\n",
       "      <td>[mine, sweeper, abv]</td>\n",
       "    </tr>\n",
       "    <tr>\n",
       "      <th>19139</th>\n",
       "      <td>What is the difference between the pro weight ...</td>\n",
       "      <td>Rapid Tone Ultra Weight Loss Supplement - Extr...</td>\n",
       "      <td>0</td>\n",
       "      <td>What is the difference between the pro weight ...</td>\n",
       "      <td>what difference pro weight loss ultra weight l...</td>\n",
       "      <td>what difference  weight loss ultra weight loss...</td>\n",
       "      <td>[what, difference, weight, loss, ultra, weight...</td>\n",
       "      <td>[what, difference, weight, loss, ultra, weight...</td>\n",
       "      <td>[what, differ, weight, loss, ultra, weight, lo...</td>\n",
       "    </tr>\n",
       "    <tr>\n",
       "      <th>19140</th>\n",
       "      <td>Can you provide me a phone number to the compa...</td>\n",
       "      <td>Essence PH Skin Cream 0.5 fl oz/15ml</td>\n",
       "      <td>0</td>\n",
       "      <td>Can you provide me a phone number to the compa...</td>\n",
       "      <td>can provide phone number company offices essen...</td>\n",
       "      <td>provide phone number company offices essence ...</td>\n",
       "      <td>[provide, phone, number, company, offices, ess...</td>\n",
       "      <td>[provide, phone, number, company, office, esse...</td>\n",
       "      <td>[provid, phone, number, compani, offic, essenc...</td>\n",
       "    </tr>\n",
       "    <tr>\n",
       "      <th>19141</th>\n",
       "      <td>Is the blenders sponge latex free?</td>\n",
       "      <td>10 Piece Kabuki Contouring Makeup Brush Set wi...</td>\n",
       "      <td>0</td>\n",
       "      <td>Is the blenders sponge latex free</td>\n",
       "      <td>is blenders sponge latex free</td>\n",
       "      <td>blenders sponge latex free</td>\n",
       "      <td>[blenders, sponge, latex, free]</td>\n",
       "      <td>[blender, sponge, latex, free]</td>\n",
       "      <td>[blender, spong, latex, free]</td>\n",
       "    </tr>\n",
       "  </tbody>\n",
       "</table>\n",
       "</div>"
      ],
      "text/plain": [
       "                                                question  \\\n",
       "19137                               Serve na f800r 2013?   \n",
       "19138               Can it run mine sweeper abve 10 fps?   \n",
       "19139  What is the difference between the pro weight ...   \n",
       "19140  Can you provide me a phone number to the compa...   \n",
       "19141                 Is the blenders sponge latex free?   \n",
       "\n",
       "                                     product_description  label  \\\n",
       "19137    Puig 5051F Dark Smoke New Generation Windshield      0   \n",
       "19138  SkyTech Supremacy Gaming Computer PC Desktop -...      0   \n",
       "19139  Rapid Tone Ultra Weight Loss Supplement - Extr...      0   \n",
       "19140               Essence PH Skin Cream 0.5 fl oz/15ml      0   \n",
       "19141  10 Piece Kabuki Contouring Makeup Brush Set wi...      0   \n",
       "\n",
       "                                        q_no_punctuation  \\\n",
       "19137                               Serve na f800r 2013    \n",
       "19138               Can it run mine sweeper abve 10 fps    \n",
       "19139  What is the difference between the pro weight ...   \n",
       "19140  Can you provide me a phone number to the compa...   \n",
       "19141                 Is the blenders sponge latex free    \n",
       "\n",
       "                                                   clean  \\\n",
       "19137                                serve na f800r 2013   \n",
       "19138                   can run mine sweeper abve 10 fps   \n",
       "19139  what difference pro weight loss ultra weight l...   \n",
       "19140  can provide phone number company offices essen...   \n",
       "19141                      is blenders sponge latex free   \n",
       "\n",
       "                                               clean > 3  \\\n",
       "19137                                  serve  f800r 2013   \n",
       "19138                                mine sweeper abve     \n",
       "19139  what difference  weight loss ultra weight loss...   \n",
       "19140   provide phone number company offices essence ...   \n",
       "19141                         blenders sponge latex free   \n",
       "\n",
       "                                               tokenized  \\\n",
       "19137                               [serve, f800r, 2013]   \n",
       "19138                              [mine, sweeper, abve]   \n",
       "19139  [what, difference, weight, loss, ultra, weight...   \n",
       "19140  [provide, phone, number, company, offices, ess...   \n",
       "19141                    [blenders, sponge, latex, free]   \n",
       "\n",
       "                                              lemmatized  \\\n",
       "19137                               [serve, f800r, 2013]   \n",
       "19138                              [mine, sweeper, abve]   \n",
       "19139  [what, difference, weight, loss, ultra, weight...   \n",
       "19140  [provide, phone, number, company, office, esse...   \n",
       "19141                     [blender, sponge, latex, free]   \n",
       "\n",
       "                                                 stemmed  \n",
       "19137                                [serv, f800r, 2013]  \n",
       "19138                               [mine, sweeper, abv]  \n",
       "19139  [what, differ, weight, loss, ultra, weight, lo...  \n",
       "19140  [provid, phone, number, compani, offic, essenc...  \n",
       "19141                      [blender, spong, latex, free]  "
      ]
     },
     "execution_count": 18,
     "metadata": {},
     "output_type": "execute_result"
    }
   ],
   "source": [
    "combined_df.tail()"
   ]
  },
  {
   "cell_type": "markdown",
   "metadata": {},
   "source": [
    "We want to make a new dataframe with the most common words. We are doing this to try to remove any noise from the data."
   ]
  },
  {
   "cell_type": "code",
   "execution_count": 19,
   "metadata": {},
   "outputs": [],
   "source": [
    "def make_common_word_df(dataframe, start_index, end_index):\n",
    "    # common words dataframe\n",
    "    all_words = pd.Series(' '.join(dataframe['clean > 3']).split()).value_counts()\n",
    "    words_df = pd.DataFrame({'word':all_words.index, 'count':all_words.values})\n",
    "    rare_words = words_df.loc[words_df['count'] == 1]\n",
    "    list_rare_words = list(rare_words['word'])\n",
    "\n",
    "    # make a list of the most common words - this will take a time to iterate through\n",
    "    analysis_words = []\n",
    "    for row in range(start_index, end_index):\n",
    "        for word in dataframe.loc[row]['stemmed']:\n",
    "            if word == ' ' or word =='':\n",
    "                pass\n",
    "            elif word in list_rare_words:\n",
    "                pass\n",
    "            elif word.isalpha() == False: \n",
    "                pass\n",
    "            elif word not in analysis_words and len(word)>3: \n",
    "                analysis_words.append(word)\n",
    "\n",
    "    #set count of words as 0 \n",
    "    analysis_dict = dict()\n",
    "    for word in analysis_words:\n",
    "        analysis_dict[word] = 0\n",
    "    analysis_dict['rare word'] = 0 #words that only appear once in all of the dataframe\n",
    "\n",
    "    #create dataframe\n",
    "    for row in range(start_index, end_index):\n",
    "        for word in dataframe.loc[row]['stemmed']:\n",
    "            if word not in analysis_dict:\n",
    "                analysis_dict['rare word'] = analysis_dict['rare word'] + 1\n",
    "            else:\n",
    "                analysis_dict[word] = analysis_dict[word] + 1\n",
    "    final_dict = {}\n",
    "    for word in analysis_dict:\n",
    "        if analysis_dict[word] != 1:\n",
    "            final_dict[word] = analysis_dict[word]\n",
    "\n",
    "    return pd.DataFrame.from_dict(final_dict, orient='index')\n"
   ]
  },
  {
   "cell_type": "markdown",
   "metadata": {},
   "source": [
    "Lets make a humorous words dataframe and a non_humorous words dataframe."
   ]
  },
  {
   "cell_type": "code",
   "execution_count": 20,
   "metadata": {},
   "outputs": [],
   "source": [
    "humorous_words = make_common_word_df(combined_df[combined_df['label'] ==1], 0, 9571)\n",
    "humorous_words.reset_index(inplace=True)\n",
    "humorous_words.rename(columns={0:'humorous', 'index':'word'}, inplace=True)"
   ]
  },
  {
   "cell_type": "code",
   "execution_count": 21,
   "metadata": {},
   "outputs": [],
   "source": [
    "non_humorous_words = make_common_word_df(combined_df[combined_df['label'] == 0], 9571, 19141)\n",
    "non_humorous_words.reset_index(inplace=True)\n",
    "non_humorous_words.rename(columns={0:'non_humorous', 'index':'word'}, inplace=True)"
   ]
  },
  {
   "cell_type": "markdown",
   "metadata": {},
   "source": [
    "Let's combine the words dataframe and see how it looks"
   ]
  },
  {
   "cell_type": "code",
   "execution_count": 22,
   "metadata": {},
   "outputs": [
    {
     "data": {
      "text/html": [
       "<div>\n",
       "<style scoped>\n",
       "    .dataframe tbody tr th:only-of-type {\n",
       "        vertical-align: middle;\n",
       "    }\n",
       "\n",
       "    .dataframe tbody tr th {\n",
       "        vertical-align: top;\n",
       "    }\n",
       "\n",
       "    .dataframe thead th {\n",
       "        text-align: right;\n",
       "    }\n",
       "</style>\n",
       "<table border=\"1\" class=\"dataframe\">\n",
       "  <thead>\n",
       "    <tr style=\"text-align: right;\">\n",
       "      <th></th>\n",
       "      <th>word</th>\n",
       "      <th>humorous</th>\n",
       "      <th>non_humorous</th>\n",
       "    </tr>\n",
       "  </thead>\n",
       "  <tbody>\n",
       "    <tr>\n",
       "      <th>0</th>\n",
       "      <td>will</td>\n",
       "      <td>1445</td>\n",
       "      <td>405</td>\n",
       "    </tr>\n",
       "    <tr>\n",
       "      <th>1</th>\n",
       "      <td>sampl</td>\n",
       "      <td>6</td>\n",
       "      <td>15</td>\n",
       "    </tr>\n",
       "    <tr>\n",
       "      <th>2</th>\n",
       "      <td>commun</td>\n",
       "      <td>17</td>\n",
       "      <td>5</td>\n",
       "    </tr>\n",
       "    <tr>\n",
       "      <th>3</th>\n",
       "      <td>spirit</td>\n",
       "      <td>59</td>\n",
       "      <td>3</td>\n",
       "    </tr>\n",
       "    <tr>\n",
       "      <th>4</th>\n",
       "      <td>even</td>\n",
       "      <td>44</td>\n",
       "      <td>43</td>\n",
       "    </tr>\n",
       "    <tr>\n",
       "      <th>...</th>\n",
       "      <td>...</td>\n",
       "      <td>...</td>\n",
       "      <td>...</td>\n",
       "    </tr>\n",
       "    <tr>\n",
       "      <th>1804</th>\n",
       "      <td>sanit</td>\n",
       "      <td>2</td>\n",
       "      <td>2</td>\n",
       "    </tr>\n",
       "    <tr>\n",
       "      <th>1805</th>\n",
       "      <td>ukulel</td>\n",
       "      <td>2</td>\n",
       "      <td>2</td>\n",
       "    </tr>\n",
       "    <tr>\n",
       "      <th>1806</th>\n",
       "      <td>penni</td>\n",
       "      <td>3</td>\n",
       "      <td>2</td>\n",
       "    </tr>\n",
       "    <tr>\n",
       "      <th>1807</th>\n",
       "      <td>kitten</td>\n",
       "      <td>3</td>\n",
       "      <td>5</td>\n",
       "    </tr>\n",
       "    <tr>\n",
       "      <th>1808</th>\n",
       "      <td>rare word</td>\n",
       "      <td>6079</td>\n",
       "      <td>5710</td>\n",
       "    </tr>\n",
       "  </tbody>\n",
       "</table>\n",
       "<p>1809 rows × 3 columns</p>\n",
       "</div>"
      ],
      "text/plain": [
       "           word  humorous  non_humorous\n",
       "0          will      1445           405\n",
       "1         sampl         6            15\n",
       "2        commun        17             5\n",
       "3        spirit        59             3\n",
       "4          even        44            43\n",
       "...         ...       ...           ...\n",
       "1804      sanit         2             2\n",
       "1805     ukulel         2             2\n",
       "1806      penni         3             2\n",
       "1807     kitten         3             5\n",
       "1808  rare word      6079          5710\n",
       "\n",
       "[1809 rows x 3 columns]"
      ]
     },
     "execution_count": 22,
     "metadata": {},
     "output_type": "execute_result"
    }
   ],
   "source": [
    "merged_words_df = pd.merge(humorous_words, non_humorous_words)\n",
    "merged_words_df"
   ]
  },
  {
   "cell_type": "markdown",
   "metadata": {},
   "source": [
    "Now we have a dataframe \"merged_words_df\" which has each row as a common word in stemmed form and the number of humorous and non_humorous occurences. Let's add these a total to the dataframe too."
   ]
  },
  {
   "cell_type": "code",
   "execution_count": 23,
   "metadata": {},
   "outputs": [
    {
     "data": {
      "text/html": [
       "<div>\n",
       "<style scoped>\n",
       "    .dataframe tbody tr th:only-of-type {\n",
       "        vertical-align: middle;\n",
       "    }\n",
       "\n",
       "    .dataframe tbody tr th {\n",
       "        vertical-align: top;\n",
       "    }\n",
       "\n",
       "    .dataframe thead th {\n",
       "        text-align: right;\n",
       "    }\n",
       "</style>\n",
       "<table border=\"1\" class=\"dataframe\">\n",
       "  <thead>\n",
       "    <tr style=\"text-align: right;\">\n",
       "      <th></th>\n",
       "      <th>word</th>\n",
       "      <th>humorous</th>\n",
       "      <th>non_humorous</th>\n",
       "      <th>total occurances</th>\n",
       "    </tr>\n",
       "  </thead>\n",
       "  <tbody>\n",
       "    <tr>\n",
       "      <th>0</th>\n",
       "      <td>will</td>\n",
       "      <td>1445</td>\n",
       "      <td>405</td>\n",
       "      <td>1850</td>\n",
       "    </tr>\n",
       "    <tr>\n",
       "      <th>1</th>\n",
       "      <td>sampl</td>\n",
       "      <td>6</td>\n",
       "      <td>15</td>\n",
       "      <td>21</td>\n",
       "    </tr>\n",
       "    <tr>\n",
       "      <th>2</th>\n",
       "      <td>commun</td>\n",
       "      <td>17</td>\n",
       "      <td>5</td>\n",
       "      <td>22</td>\n",
       "    </tr>\n",
       "    <tr>\n",
       "      <th>3</th>\n",
       "      <td>spirit</td>\n",
       "      <td>59</td>\n",
       "      <td>3</td>\n",
       "      <td>62</td>\n",
       "    </tr>\n",
       "    <tr>\n",
       "      <th>4</th>\n",
       "      <td>even</td>\n",
       "      <td>44</td>\n",
       "      <td>43</td>\n",
       "      <td>87</td>\n",
       "    </tr>\n",
       "  </tbody>\n",
       "</table>\n",
       "</div>"
      ],
      "text/plain": [
       "     word  humorous  non_humorous  total occurances\n",
       "0    will      1445           405              1850\n",
       "1   sampl         6            15                21\n",
       "2  commun        17             5                22\n",
       "3  spirit        59             3                62\n",
       "4    even        44            43                87"
      ]
     },
     "execution_count": 23,
     "metadata": {},
     "output_type": "execute_result"
    }
   ],
   "source": [
    "merged_words_df = merged_words_df.reindex(columns=['word', 'humorous', 'non_humorous'])\n",
    "merged_words_df['total occurances'] = merged_words_df['humorous'] + merged_words_df['non_humorous']\n",
    "merged_words_df.head()"
   ]
  },
  {
   "cell_type": "code",
   "execution_count": 24,
   "metadata": {},
   "outputs": [],
   "source": [
    "merged_words_df.sort_values(by='total occurances', inplace=True, ascending=False)"
   ]
  },
  {
   "cell_type": "markdown",
   "metadata": {},
   "source": [
    "Lets make a dataframe which has humorous and non-humorous sentences all in the same dataframe. Then we will make the following columns:\n",
    "- Number of words\n",
    "- avg. length of words\n",
    "- sentiment type"
   ]
  },
  {
   "cell_type": "code",
   "execution_count": 25,
   "metadata": {},
   "outputs": [],
   "source": [
    "#make number of total tokenized words\n",
    "combined_df['number of words'] = combined_df['tokenized'].apply(lambda row: len(row))"
   ]
  },
  {
   "cell_type": "code",
   "execution_count": 26,
   "metadata": {},
   "outputs": [
    {
     "name": "stderr",
     "output_type": "stream",
     "text": [
      "<ipython-input-26-4535d6a40eed>:12: SettingWithCopyWarning: \n",
      "A value is trying to be set on a copy of a slice from a DataFrame\n",
      "\n",
      "See the caveats in the documentation: https://pandas.pydata.org/pandas-docs/stable/user_guide/indexing.html#returning-a-view-versus-a-copy\n",
      "  combined_df['avg word length'][row] = count/combined_df.loc[row]['number of words']\n"
     ]
    }
   ],
   "source": [
    "# find average length of words per row\n",
    "combined_df['avg word length'] = 0.0\n",
    "\n",
    "for row in range(len(combined_df)):\n",
    "    count = 0\n",
    "    if len(combined_df.loc[row]['tokenized']) == 0:\n",
    "        pass\n",
    "    else:\n",
    "        for word in combined_df.loc[row]['tokenized']:\n",
    "            if word != ' ':\n",
    "                count = count + len(word)\n",
    "        combined_df['avg word length'][row] = count/combined_df.loc[row]['number of words']"
   ]
  },
  {
   "cell_type": "code",
   "execution_count": 27,
   "metadata": {},
   "outputs": [],
   "source": [
    "#lets find the sentiment of each question\n",
    "sia = SentimentIntensityAnalyzer()  \n",
    "combined_df['all sentiment scores'] = combined_df['clean'].apply(lambda row: sia.polarity_scores(row))\n",
    "combined_df['sentiment compound score'] = combined_df['all sentiment scores'].apply(lambda dic: dic['compound'])"
   ]
  },
  {
   "cell_type": "code",
   "execution_count": 28,
   "metadata": {},
   "outputs": [
    {
     "data": {
      "text/html": [
       "<div>\n",
       "<style scoped>\n",
       "    .dataframe tbody tr th:only-of-type {\n",
       "        vertical-align: middle;\n",
       "    }\n",
       "\n",
       "    .dataframe tbody tr th {\n",
       "        vertical-align: top;\n",
       "    }\n",
       "\n",
       "    .dataframe thead th {\n",
       "        text-align: right;\n",
       "    }\n",
       "</style>\n",
       "<table border=\"1\" class=\"dataframe\">\n",
       "  <thead>\n",
       "    <tr style=\"text-align: right;\">\n",
       "      <th></th>\n",
       "      <th>question</th>\n",
       "      <th>product_description</th>\n",
       "      <th>label</th>\n",
       "      <th>q_no_punctuation</th>\n",
       "      <th>clean</th>\n",
       "      <th>clean &gt; 3</th>\n",
       "      <th>tokenized</th>\n",
       "      <th>lemmatized</th>\n",
       "      <th>stemmed</th>\n",
       "      <th>number of words</th>\n",
       "      <th>avg word length</th>\n",
       "      <th>all sentiment scores</th>\n",
       "      <th>sentiment compound score</th>\n",
       "    </tr>\n",
       "  </thead>\n",
       "  <tbody>\n",
       "    <tr>\n",
       "      <th>0</th>\n",
       "      <td>Will the volca sample get me a girlfriend?</td>\n",
       "      <td>Korg Amplifier Part VOLCASAMPLE</td>\n",
       "      <td>1</td>\n",
       "      <td>Will the volca sample get me a girlfriend</td>\n",
       "      <td>will volca sample get girlfriend</td>\n",
       "      <td>will volca sample  girlfriend</td>\n",
       "      <td>[will, volca, sample, girlfriend]</td>\n",
       "      <td>[will, volca, sample, girlfriend]</td>\n",
       "      <td>[will, volca, sampl, girlfriend]</td>\n",
       "      <td>4</td>\n",
       "      <td>6.25</td>\n",
       "      <td>{'neg': 0.0, 'neu': 1.0, 'pos': 0.0, 'compound...</td>\n",
       "      <td>0.0</td>\n",
       "    </tr>\n",
       "    <tr>\n",
       "      <th>1</th>\n",
       "      <td>Can u communicate with spirits even on Saturday?</td>\n",
       "      <td>Winning Moves Games Classic Ouija</td>\n",
       "      <td>1</td>\n",
       "      <td>Can u communicate with spirits even on Saturday</td>\n",
       "      <td>can u communicate spirits even saturday</td>\n",
       "      <td>communicate spirits even saturday</td>\n",
       "      <td>[communicate, spirits, even, saturday]</td>\n",
       "      <td>[communicate, spirit, even, saturday]</td>\n",
       "      <td>[commun, spirit, even, saturday]</td>\n",
       "      <td>4</td>\n",
       "      <td>7.50</td>\n",
       "      <td>{'neg': 0.0, 'neu': 1.0, 'pos': 0.0, 'compound...</td>\n",
       "      <td>0.0</td>\n",
       "    </tr>\n",
       "  </tbody>\n",
       "</table>\n",
       "</div>"
      ],
      "text/plain": [
       "                                           question  \\\n",
       "0        Will the volca sample get me a girlfriend?   \n",
       "1  Can u communicate with spirits even on Saturday?   \n",
       "\n",
       "                 product_description  label  \\\n",
       "0    Korg Amplifier Part VOLCASAMPLE      1   \n",
       "1  Winning Moves Games Classic Ouija      1   \n",
       "\n",
       "                                   q_no_punctuation  \\\n",
       "0        Will the volca sample get me a girlfriend    \n",
       "1  Can u communicate with spirits even on Saturday    \n",
       "\n",
       "                                     clean  \\\n",
       "0         will volca sample get girlfriend   \n",
       "1  can u communicate spirits even saturday   \n",
       "\n",
       "                             clean > 3  \\\n",
       "0        will volca sample  girlfriend   \n",
       "1    communicate spirits even saturday   \n",
       "\n",
       "                                tokenized  \\\n",
       "0       [will, volca, sample, girlfriend]   \n",
       "1  [communicate, spirits, even, saturday]   \n",
       "\n",
       "                              lemmatized                           stemmed  \\\n",
       "0      [will, volca, sample, girlfriend]  [will, volca, sampl, girlfriend]   \n",
       "1  [communicate, spirit, even, saturday]  [commun, spirit, even, saturday]   \n",
       "\n",
       "   number of words  avg word length  \\\n",
       "0                4             6.25   \n",
       "1                4             7.50   \n",
       "\n",
       "                                all sentiment scores  sentiment compound score  \n",
       "0  {'neg': 0.0, 'neu': 1.0, 'pos': 0.0, 'compound...                       0.0  \n",
       "1  {'neg': 0.0, 'neu': 1.0, 'pos': 0.0, 'compound...                       0.0  "
      ]
     },
     "execution_count": 28,
     "metadata": {},
     "output_type": "execute_result"
    }
   ],
   "source": [
    "combined_df.head(2)"
   ]
  },
  {
   "cell_type": "markdown",
   "metadata": {},
   "source": [
    "------\n",
    "### Visualizing the data"
   ]
  },
  {
   "cell_type": "code",
   "execution_count": 29,
   "metadata": {},
   "outputs": [
    {
     "data": {
      "image/png": "[encoded data removed]",
      "text/plain": [
       "<Figure size 432x288 with 1 Axes>"
      ]
     },
     "metadata": {
      "needs_background": "light"
     },
     "output_type": "display_data"
    }
   ],
   "source": [
    "sns.histplot(combined_df['number of words']).set(title='Number of words per Question');"
   ]
  },
  {
   "cell_type": "code",
   "execution_count": 30,
   "metadata": {},
   "outputs": [
    {
     "data": {
      "image/png": "[encoded data removed]",
      "text/plain": [
       "<Figure size 432x288 with 1 Axes>"
      ]
     },
     "metadata": {
      "needs_background": "light"
     },
     "output_type": "display_data"
    }
   ],
   "source": [
    "sns.histplot(combined_df['avg word length']).set(title='Average Word Length');"
   ]
  },
  {
   "cell_type": "code",
   "execution_count": 31,
   "metadata": {},
   "outputs": [
    {
     "data": {
      "image/png": "[encoded data removed]",
      "text/plain": [
       "<Figure size 504x504 with 3 Axes>"
      ]
     },
     "metadata": {
      "needs_background": "light"
     },
     "output_type": "display_data"
    }
   ],
   "source": [
    "sns.jointplot(x=\"humorous\", y=\"non_humorous\", data=merged_words_df,\n",
    "                  kind=\"reg\", truncate=False, height=7).fig.suptitle(\"Humorous vs. Non-humorous Counts\");"
   ]
  },
  {
   "cell_type": "markdown",
   "metadata": {},
   "source": [
    "We see that the rare words* are possibly skewing the data. Let's remove that row and visualize again.\n",
    "\n",
    "(rare words: words that appear only once out of all the words in the questions)"
   ]
  },
  {
   "cell_type": "code",
   "execution_count": 32,
   "metadata": {},
   "outputs": [],
   "source": [
    "merged_words_df.drop([1808], inplace=True)"
   ]
  },
  {
   "cell_type": "code",
   "execution_count": 33,
   "metadata": {},
   "outputs": [
    {
     "data": {
      "image/png": "[encoded data removed]",
      "text/plain": [
       "<Figure size 504x504 with 3 Axes>"
      ]
     },
     "metadata": {
      "needs_background": "light"
     },
     "output_type": "display_data"
    }
   ],
   "source": [
    " #plot of humor/nonhumor raw counts zoomed in looking at correlation\n",
    " sns.jointplot(x=\"humorous\", y=\"non_humorous\", data=merged_words_df,\n",
    "                  kind=\"reg\", truncate=False, height=7).fig.suptitle(\"Humorous vs. Non-humorous Counts\");"
   ]
  },
  {
   "cell_type": "code",
   "execution_count": 34,
   "metadata": {},
   "outputs": [
    {
     "name": "stderr",
     "output_type": "stream",
     "text": [
      "/Users/mattisonhineline/miniconda3/lib/python3.8/site-packages/seaborn/distributions.py:2557: FutureWarning: `distplot` is a deprecated function and will be removed in a future version. Please adapt your code to use either `displot` (a figure-level function with similar flexibility) or `histplot` (an axes-level function for histograms).\n",
      "  warnings.warn(msg, FutureWarning)\n"
     ]
    },
    {
     "data": {
      "image/png": "[encoded data removed]",
      "text/plain": [
       "<Figure size 432x288 with 1 Axes>"
      ]
     },
     "metadata": {
      "needs_background": "light"
     },
     "output_type": "display_data"
    }
   ],
   "source": [
    "sns.distplot(combined_df['sentiment compound score'], bins=18).set_title('Sentiment Compound Score Density');"
   ]
  },
  {
   "cell_type": "code",
   "execution_count": 35,
   "metadata": {},
   "outputs": [
    {
     "data": {
      "image/png": "[encoded data removed]",
      "text/plain": [
       "<Figure size 540x540 with 12 Axes>"
      ]
     },
     "metadata": {
      "needs_background": "light"
     },
     "output_type": "display_data"
    }
   ],
   "source": [
    "sns.pairplot(data=merged_words_df);"
   ]
  },
  {
   "cell_type": "markdown",
   "metadata": {},
   "source": [
    "We see that indeed there might be some connection between the word and if the label is humorous or non_humorous!"
   ]
  },
  {
   "cell_type": "code",
   "execution_count": 36,
   "metadata": {},
   "outputs": [
    {
     "data": {
      "image/png": "[encoded data removed]",
      "text/plain": [
       "<Figure size 360x720 with 1 Axes>"
      ]
     },
     "metadata": {},
     "output_type": "display_data"
    }
   ],
   "source": [
    "sns.set(rc = {'figure.figsize':(5,10)})\n",
    "\n",
    "plot = sns.boxplot(data=combined_df, y=\"number of words\", x='label', hue='label')\n",
    "plot.set(title='Number of Words')\n",
    "plot.set_xticklabels(['non_humorous', 'humorous']);"
   ]
  },
  {
   "cell_type": "markdown",
   "metadata": {},
   "source": [
    "Great. Now we have a better idea how the data is distributed. We can also see which words are most frequently labeled as humorous or non_humorous"
   ]
  },
  {
   "cell_type": "code",
   "execution_count": 37,
   "metadata": {},
   "outputs": [
    {
     "data": {
      "text/html": [
       "<div>\n",
       "<style scoped>\n",
       "    .dataframe tbody tr th:only-of-type {\n",
       "        vertical-align: middle;\n",
       "    }\n",
       "\n",
       "    .dataframe tbody tr th {\n",
       "        vertical-align: top;\n",
       "    }\n",
       "\n",
       "    .dataframe thead th {\n",
       "        text-align: right;\n",
       "    }\n",
       "</style>\n",
       "<table border=\"1\" class=\"dataframe\">\n",
       "  <thead>\n",
       "    <tr style=\"text-align: right;\">\n",
       "      <th></th>\n",
       "      <th>word</th>\n",
       "      <th>humorous</th>\n",
       "      <th>non_humorous</th>\n",
       "      <th>total occurances</th>\n",
       "    </tr>\n",
       "  </thead>\n",
       "  <tbody>\n",
       "    <tr>\n",
       "      <th>0</th>\n",
       "      <td>will</td>\n",
       "      <td>1445</td>\n",
       "      <td>405</td>\n",
       "      <td>1850</td>\n",
       "    </tr>\n",
       "    <tr>\n",
       "      <th>14</th>\n",
       "      <td>come</td>\n",
       "      <td>930</td>\n",
       "      <td>512</td>\n",
       "      <td>1442</td>\n",
       "    </tr>\n",
       "    <tr>\n",
       "      <th>151</th>\n",
       "      <td>make</td>\n",
       "      <td>583</td>\n",
       "      <td>204</td>\n",
       "      <td>787</td>\n",
       "    </tr>\n",
       "    <tr>\n",
       "      <th>153</th>\n",
       "      <td>like</td>\n",
       "      <td>520</td>\n",
       "      <td>388</td>\n",
       "      <td>908</td>\n",
       "    </tr>\n",
       "    <tr>\n",
       "      <th>70</th>\n",
       "      <td>would</td>\n",
       "      <td>467</td>\n",
       "      <td>468</td>\n",
       "      <td>935</td>\n",
       "    </tr>\n",
       "    <tr>\n",
       "      <th>82</th>\n",
       "      <td>work</td>\n",
       "      <td>344</td>\n",
       "      <td>496</td>\n",
       "      <td>840</td>\n",
       "    </tr>\n",
       "    <tr>\n",
       "      <th>239</th>\n",
       "      <td>zombi</td>\n",
       "      <td>327</td>\n",
       "      <td>2</td>\n",
       "      <td>329</td>\n",
       "    </tr>\n",
       "    <tr>\n",
       "      <th>10</th>\n",
       "      <td>what</td>\n",
       "      <td>316</td>\n",
       "      <td>860</td>\n",
       "      <td>1176</td>\n",
       "    </tr>\n",
       "    <tr>\n",
       "      <th>74</th>\n",
       "      <td>help</td>\n",
       "      <td>301</td>\n",
       "      <td>78</td>\n",
       "      <td>379</td>\n",
       "    </tr>\n",
       "    <tr>\n",
       "      <th>73</th>\n",
       "      <td>need</td>\n",
       "      <td>274</td>\n",
       "      <td>288</td>\n",
       "      <td>562</td>\n",
       "    </tr>\n",
       "    <tr>\n",
       "      <th>152</th>\n",
       "      <td>girl</td>\n",
       "      <td>255</td>\n",
       "      <td>16</td>\n",
       "      <td>271</td>\n",
       "    </tr>\n",
       "    <tr>\n",
       "      <th>69</th>\n",
       "      <td>kill</td>\n",
       "      <td>254</td>\n",
       "      <td>16</td>\n",
       "      <td>270</td>\n",
       "    </tr>\n",
       "    <tr>\n",
       "      <th>178</th>\n",
       "      <td>wear</td>\n",
       "      <td>235</td>\n",
       "      <td>105</td>\n",
       "      <td>340</td>\n",
       "    </tr>\n",
       "    <tr>\n",
       "      <th>16</th>\n",
       "      <td>product</td>\n",
       "      <td>234</td>\n",
       "      <td>364</td>\n",
       "      <td>598</td>\n",
       "    </tr>\n",
       "    <tr>\n",
       "      <th>130</th>\n",
       "      <td>look</td>\n",
       "      <td>230</td>\n",
       "      <td>203</td>\n",
       "      <td>433</td>\n",
       "    </tr>\n",
       "    <tr>\n",
       "      <th>110</th>\n",
       "      <td>want</td>\n",
       "      <td>219</td>\n",
       "      <td>256</td>\n",
       "      <td>475</td>\n",
       "    </tr>\n",
       "    <tr>\n",
       "      <th>165</th>\n",
       "      <td>pictur</td>\n",
       "      <td>209</td>\n",
       "      <td>128</td>\n",
       "      <td>337</td>\n",
       "    </tr>\n",
       "    <tr>\n",
       "      <th>171</th>\n",
       "      <td>take</td>\n",
       "      <td>202</td>\n",
       "      <td>163</td>\n",
       "      <td>365</td>\n",
       "    </tr>\n",
       "    <tr>\n",
       "      <th>346</th>\n",
       "      <td>good</td>\n",
       "      <td>196</td>\n",
       "      <td>174</td>\n",
       "      <td>370</td>\n",
       "    </tr>\n",
       "    <tr>\n",
       "      <th>66</th>\n",
       "      <td>realli</td>\n",
       "      <td>193</td>\n",
       "      <td>147</td>\n",
       "      <td>340</td>\n",
       "    </tr>\n",
       "  </tbody>\n",
       "</table>\n",
       "</div>"
      ],
      "text/plain": [
       "        word  humorous  non_humorous  total occurances\n",
       "0       will      1445           405              1850\n",
       "14      come       930           512              1442\n",
       "151     make       583           204               787\n",
       "153     like       520           388               908\n",
       "70     would       467           468               935\n",
       "82      work       344           496               840\n",
       "239    zombi       327             2               329\n",
       "10      what       316           860              1176\n",
       "74      help       301            78               379\n",
       "73      need       274           288               562\n",
       "152     girl       255            16               271\n",
       "69      kill       254            16               270\n",
       "178     wear       235           105               340\n",
       "16   product       234           364               598\n",
       "130     look       230           203               433\n",
       "110     want       219           256               475\n",
       "165   pictur       209           128               337\n",
       "171     take       202           163               365\n",
       "346     good       196           174               370\n",
       "66    realli       193           147               340"
      ]
     },
     "execution_count": 37,
     "metadata": {},
     "output_type": "execute_result"
    }
   ],
   "source": [
    "# print top 20 most common words in humorous\n",
    "merged_words_df.sort_values(by=['humorous'], ascending=False).head(20)"
   ]
  },
  {
   "cell_type": "code",
   "execution_count": 38,
   "metadata": {},
   "outputs": [
    {
     "data": {
      "text/html": [
       "<div>\n",
       "<style scoped>\n",
       "    .dataframe tbody tr th:only-of-type {\n",
       "        vertical-align: middle;\n",
       "    }\n",
       "\n",
       "    .dataframe tbody tr th {\n",
       "        vertical-align: top;\n",
       "    }\n",
       "\n",
       "    .dataframe thead th {\n",
       "        text-align: right;\n",
       "    }\n",
       "</style>\n",
       "<table border=\"1\" class=\"dataframe\">\n",
       "  <thead>\n",
       "    <tr style=\"text-align: right;\">\n",
       "      <th></th>\n",
       "      <th>word</th>\n",
       "      <th>humorous</th>\n",
       "      <th>non_humorous</th>\n",
       "      <th>total occurances</th>\n",
       "    </tr>\n",
       "  </thead>\n",
       "  <tbody>\n",
       "    <tr>\n",
       "      <th>10</th>\n",
       "      <td>what</td>\n",
       "      <td>316</td>\n",
       "      <td>860</td>\n",
       "      <td>1176</td>\n",
       "    </tr>\n",
       "    <tr>\n",
       "      <th>14</th>\n",
       "      <td>come</td>\n",
       "      <td>930</td>\n",
       "      <td>512</td>\n",
       "      <td>1442</td>\n",
       "    </tr>\n",
       "    <tr>\n",
       "      <th>82</th>\n",
       "      <td>work</td>\n",
       "      <td>344</td>\n",
       "      <td>496</td>\n",
       "      <td>840</td>\n",
       "    </tr>\n",
       "    <tr>\n",
       "      <th>70</th>\n",
       "      <td>would</td>\n",
       "      <td>467</td>\n",
       "      <td>468</td>\n",
       "      <td>935</td>\n",
       "    </tr>\n",
       "    <tr>\n",
       "      <th>264</th>\n",
       "      <td>size</td>\n",
       "      <td>51</td>\n",
       "      <td>452</td>\n",
       "      <td>503</td>\n",
       "    </tr>\n",
       "    <tr>\n",
       "      <th>0</th>\n",
       "      <td>will</td>\n",
       "      <td>1445</td>\n",
       "      <td>405</td>\n",
       "      <td>1850</td>\n",
       "    </tr>\n",
       "    <tr>\n",
       "      <th>153</th>\n",
       "      <td>like</td>\n",
       "      <td>520</td>\n",
       "      <td>388</td>\n",
       "      <td>908</td>\n",
       "    </tr>\n",
       "    <tr>\n",
       "      <th>405</th>\n",
       "      <td>ship</td>\n",
       "      <td>54</td>\n",
       "      <td>379</td>\n",
       "      <td>433</td>\n",
       "    </tr>\n",
       "    <tr>\n",
       "      <th>16</th>\n",
       "      <td>product</td>\n",
       "      <td>234</td>\n",
       "      <td>364</td>\n",
       "      <td>598</td>\n",
       "    </tr>\n",
       "    <tr>\n",
       "      <th>91</th>\n",
       "      <td>made</td>\n",
       "      <td>152</td>\n",
       "      <td>348</td>\n",
       "      <td>500</td>\n",
       "    </tr>\n",
       "    <tr>\n",
       "      <th>73</th>\n",
       "      <td>need</td>\n",
       "      <td>274</td>\n",
       "      <td>288</td>\n",
       "      <td>562</td>\n",
       "    </tr>\n",
       "    <tr>\n",
       "      <th>177</th>\n",
       "      <td>long</td>\n",
       "      <td>56</td>\n",
       "      <td>265</td>\n",
       "      <td>321</td>\n",
       "    </tr>\n",
       "    <tr>\n",
       "      <th>201</th>\n",
       "      <td>order</td>\n",
       "      <td>98</td>\n",
       "      <td>263</td>\n",
       "      <td>361</td>\n",
       "    </tr>\n",
       "    <tr>\n",
       "      <th>110</th>\n",
       "      <td>want</td>\n",
       "      <td>219</td>\n",
       "      <td>256</td>\n",
       "      <td>475</td>\n",
       "    </tr>\n",
       "    <tr>\n",
       "      <th>9</th>\n",
       "      <td>anyon</td>\n",
       "      <td>165</td>\n",
       "      <td>244</td>\n",
       "      <td>409</td>\n",
       "    </tr>\n",
       "    <tr>\n",
       "      <th>185</th>\n",
       "      <td>mani</td>\n",
       "      <td>151</td>\n",
       "      <td>237</td>\n",
       "      <td>388</td>\n",
       "    </tr>\n",
       "    <tr>\n",
       "      <th>563</th>\n",
       "      <td>item</td>\n",
       "      <td>69</td>\n",
       "      <td>237</td>\n",
       "      <td>306</td>\n",
       "    </tr>\n",
       "    <tr>\n",
       "      <th>68</th>\n",
       "      <td>know</td>\n",
       "      <td>173</td>\n",
       "      <td>221</td>\n",
       "      <td>394</td>\n",
       "    </tr>\n",
       "    <tr>\n",
       "      <th>151</th>\n",
       "      <td>make</td>\n",
       "      <td>583</td>\n",
       "      <td>204</td>\n",
       "      <td>787</td>\n",
       "    </tr>\n",
       "    <tr>\n",
       "      <th>130</th>\n",
       "      <td>look</td>\n",
       "      <td>230</td>\n",
       "      <td>203</td>\n",
       "      <td>433</td>\n",
       "    </tr>\n",
       "  </tbody>\n",
       "</table>\n",
       "</div>"
      ],
      "text/plain": [
       "        word  humorous  non_humorous  total occurances\n",
       "10      what       316           860              1176\n",
       "14      come       930           512              1442\n",
       "82      work       344           496               840\n",
       "70     would       467           468               935\n",
       "264     size        51           452               503\n",
       "0       will      1445           405              1850\n",
       "153     like       520           388               908\n",
       "405     ship        54           379               433\n",
       "16   product       234           364               598\n",
       "91      made       152           348               500\n",
       "73      need       274           288               562\n",
       "177     long        56           265               321\n",
       "201    order        98           263               361\n",
       "110     want       219           256               475\n",
       "9      anyon       165           244               409\n",
       "185     mani       151           237               388\n",
       "563     item        69           237               306\n",
       "68      know       173           221               394\n",
       "151     make       583           204               787\n",
       "130     look       230           203               433"
      ]
     },
     "execution_count": 38,
     "metadata": {},
     "output_type": "execute_result"
    }
   ],
   "source": [
    "# print top 20 most common words in non_humorous\n",
    "merged_words_df.sort_values(by=['non_humorous'], ascending=False).head(20)"
   ]
  },
  {
   "cell_type": "markdown",
   "metadata": {},
   "source": [
    "______\n",
    "## Evaluation and Modeling\n",
    "\n",
    "As practice and for fun, we will try three models on this data. \n",
    "1. Multiple Linear Regression \n",
    "    1. We want to see if we can predict the word. For this we will first need to make the strings (words) usable in this model. For practice and curiosity, we will convert the words to bits then run the model.\n",
    "2. KMeans Clustering\n",
    "    1. We actually end up having to run Kmeans clustering twice to see if we can get a better model by adding in more features (word counts). \n",
    "3. Random Forest Regression Ensemble\n",
    "    1. We also run a random forest regression, again for practice and for trying to find a better model. "
   ]
  },
  {
   "cell_type": "markdown",
   "metadata": {},
   "source": [
    "#### 1. Multiple Linear Regression\n",
    "For the regression model, we will use the merged_words_df and try to predict the words."
   ]
  },
  {
   "cell_type": "code",
   "execution_count": 39,
   "metadata": {},
   "outputs": [
    {
     "data": {
      "text/plain": [
       "Index(['word', 'humorous', 'non_humorous', 'total occurances'], dtype='object')"
      ]
     },
     "execution_count": 39,
     "metadata": {},
     "output_type": "execute_result"
    }
   ],
   "source": [
    "lm = LinearRegression()\n",
    "merged_words_df.columns"
   ]
  },
  {
   "cell_type": "code",
   "execution_count": 40,
   "metadata": {},
   "outputs": [],
   "source": [
    "# this function is thanks to a stackoverflow contributer here:\n",
    "#  https://stackoverflow.com/questions/10237926/convert-string-to-list-of-bits-and-viceversa\n",
    "#  which was contributed by John Gaines Jr. : https://stackoverflow.com/users/455506/john-gaines-jr\n",
    "\n",
    "# make word strings to bits\n",
    "def tobits(s):\n",
    "    result = []\n",
    "    for c in s:\n",
    "        bits = bin(ord(c))[2:]\n",
    "        bits = '00000000'[len(bits):] + bits\n",
    "        result.extend([int(b) for b in bits])\n",
    "    res = int(\"\".join(map(str, result)))\n",
    "    return res"
   ]
  },
  {
   "cell_type": "markdown",
   "metadata": {},
   "source": [
    "Let's check our bit function."
   ]
  },
  {
   "cell_type": "code",
   "execution_count": 41,
   "metadata": {},
   "outputs": [
    {
     "name": "stdout",
     "output_type": "stream",
     "text": [
      "hey\n"
     ]
    }
   ],
   "source": [
    "print(tobits('hey'))\n",
    "print('hey')"
   ]
  },
  {
   "cell_type": "code",
   "execution_count": 42,
   "metadata": {},
   "outputs": [],
   "source": [
    "#apply to all words\n",
    "merged_words_df['bit words'] = merged_words_df['word'].apply(lambda row: tobits(row))"
   ]
  },
  {
   "cell_type": "markdown",
   "metadata": {},
   "source": [
    "Lets set up the model with a 80-20 train-test split."
   ]
  },
  {
   "cell_type": "code",
   "execution_count": 43,
   "metadata": {},
   "outputs": [],
   "source": [
    "X = merged_words_df[['humorous', 'non_humorous']]\n",
    "y = merged_words_df['bit words']"
   ]
  },
  {
   "cell_type": "code",
   "execution_count": 44,
   "metadata": {},
   "outputs": [],
   "source": [
    "X_train, X_test, y_train, y_test = train_test_split(X, y, test_size=0.2, random_state=44)"
   ]
  },
  {
   "cell_type": "code",
   "execution_count": 45,
   "metadata": {},
   "outputs": [
    {
     "data": {
      "text/plain": [
       "LinearRegression()"
      ]
     },
     "execution_count": 45,
     "metadata": {},
     "output_type": "execute_result"
    }
   ],
   "source": [
    "lm.fit(X_train, y_train)"
   ]
  },
  {
   "cell_type": "code",
   "execution_count": 46,
   "metadata": {},
   "outputs": [
    {
     "data": {
      "text/html": [
       "<div>\n",
       "<style scoped>\n",
       "    .dataframe tbody tr th:only-of-type {\n",
       "        vertical-align: middle;\n",
       "    }\n",
       "\n",
       "    .dataframe tbody tr th {\n",
       "        vertical-align: top;\n",
       "    }\n",
       "\n",
       "    .dataframe thead th {\n",
       "        text-align: right;\n",
       "    }\n",
       "</style>\n",
       "<table border=\"1\" class=\"dataframe\">\n",
       "  <thead>\n",
       "    <tr style=\"text-align: right;\">\n",
       "      <th></th>\n",
       "      <th>Coefficient</th>\n",
       "    </tr>\n",
       "  </thead>\n",
       "  <tbody>\n",
       "    <tr>\n",
       "      <th>humorous</th>\n",
       "      <td>4.651606e+86</td>\n",
       "    </tr>\n",
       "    <tr>\n",
       "      <th>non_humorous</th>\n",
       "      <td>-8.216218e+88</td>\n",
       "    </tr>\n",
       "  </tbody>\n",
       "</table>\n",
       "</div>"
      ],
      "text/plain": [
       "               Coefficient\n",
       "humorous      4.651606e+86\n",
       "non_humorous -8.216218e+88"
      ]
     },
     "execution_count": 46,
     "metadata": {},
     "output_type": "execute_result"
    }
   ],
   "source": [
    "coeff_df = pd.DataFrame(lm.coef_ , X.columns, columns=['Coefficient'])\n",
    "coeff_df"
   ]
  },
  {
   "cell_type": "markdown",
   "metadata": {},
   "source": [
    "Hmm, maybe using bits was not actually the best manner to do this project (which makes sense but it was worth a try). Let's plot it just in case to get a visual"
   ]
  },
  {
   "cell_type": "code",
   "execution_count": 47,
   "metadata": {},
   "outputs": [
    {
     "data": {
      "image/png": "[encoded data removed]",
      "text/plain": [
       "<Figure size 360x720 with 1 Axes>"
      ]
     },
     "metadata": {},
     "output_type": "display_data"
    }
   ],
   "source": [
    "sns.set(rc = {'figure.figsize':(10,5)})\n",
    "\n",
    "predictions = lm.predict(X_test)\n",
    "plt.scatter(y_test, predictions)\n",
    "plt.xlabel('Y Test')\n",
    "plt.ylabel('Predicted Y')\n",
    "plt.title('Predicted vs Actual');"
   ]
  },
  {
   "cell_type": "code",
   "execution_count": 48,
   "metadata": {},
   "outputs": [
    {
     "name": "stderr",
     "output_type": "stream",
     "text": [
      "/Users/mattisonhineline/miniconda3/lib/python3.8/site-packages/seaborn/distributions.py:2557: FutureWarning: `distplot` is a deprecated function and will be removed in a future version. Please adapt your code to use either `displot` (a figure-level function with similar flexibility) or `histplot` (an axes-level function for histograms).\n",
      "  warnings.warn(msg, FutureWarning)\n"
     ]
    },
    {
     "data": {
      "image/png": "[encoded data removed]",
      "text/plain": [
       "<Figure size 360x720 with 1 Axes>"
      ]
     },
     "metadata": {},
     "output_type": "display_data"
    }
   ],
   "source": [
    "sns.distplot((y_test-predictions), bins=100);"
   ]
  },
  {
   "cell_type": "code",
   "execution_count": 49,
   "metadata": {},
   "outputs": [
    {
     "name": "stdout",
     "output_type": "stream",
     "text": [
      "MSE: 7.998765461696003e+181\n"
     ]
    }
   ],
   "source": [
    "print('MSE:', metrics.mean_squared_error(y_test, predictions))"
   ]
  },
  {
   "cell_type": "markdown",
   "metadata": {},
   "source": [
    "This model is not convincing at this point. Let's move on to a clustering model."
   ]
  },
  {
   "cell_type": "markdown",
   "metadata": {},
   "source": [
    "#### 2a. K Means Unsupervised Clustering\n",
    "\n",
    "For KMeans we know we have two clusters (humorous and non-humorous). Let's use our 'combined_df' dataframe to run kmeans and see what happens."
   ]
  },
  {
   "cell_type": "code",
   "execution_count": 50,
   "metadata": {},
   "outputs": [],
   "source": [
    "# set clusters\n",
    "kmeans = KMeans(n_clusters=2)"
   ]
  },
  {
   "cell_type": "code",
   "execution_count": 51,
   "metadata": {},
   "outputs": [
    {
     "data": {
      "text/html": [
       "<div>\n",
       "<style scoped>\n",
       "    .dataframe tbody tr th:only-of-type {\n",
       "        vertical-align: middle;\n",
       "    }\n",
       "\n",
       "    .dataframe tbody tr th {\n",
       "        vertical-align: top;\n",
       "    }\n",
       "\n",
       "    .dataframe thead th {\n",
       "        text-align: right;\n",
       "    }\n",
       "</style>\n",
       "<table border=\"1\" class=\"dataframe\">\n",
       "  <thead>\n",
       "    <tr style=\"text-align: right;\">\n",
       "      <th></th>\n",
       "      <th>label</th>\n",
       "      <th>number of words</th>\n",
       "      <th>sentiment compound score</th>\n",
       "      <th>avg word length</th>\n",
       "    </tr>\n",
       "  </thead>\n",
       "  <tbody>\n",
       "    <tr>\n",
       "      <th>0</th>\n",
       "      <td>1</td>\n",
       "      <td>4</td>\n",
       "      <td>0.0</td>\n",
       "      <td>6.25</td>\n",
       "    </tr>\n",
       "    <tr>\n",
       "      <th>1</th>\n",
       "      <td>1</td>\n",
       "      <td>4</td>\n",
       "      <td>0.0</td>\n",
       "      <td>7.50</td>\n",
       "    </tr>\n",
       "  </tbody>\n",
       "</table>\n",
       "</div>"
      ],
      "text/plain": [
       "   label  number of words  sentiment compound score  avg word length\n",
       "0      1                4                       0.0             6.25\n",
       "1      1                4                       0.0             7.50"
      ]
     },
     "execution_count": 51,
     "metadata": {},
     "output_type": "execute_result"
    }
   ],
   "source": [
    "kmeans_df = pd.DataFrame(combined_df, columns=['label', 'number of words', 'sentiment compound score', 'avg word length'])\n",
    "kmeans_df.head(2)"
   ]
  },
  {
   "cell_type": "code",
   "execution_count": 52,
   "metadata": {},
   "outputs": [
    {
     "data": {
      "text/plain": [
       "array([[3.40786588, 0.0479562 , 5.49569805],\n",
       "       [9.57882118, 0.13713013, 5.77080285]])"
      ]
     },
     "execution_count": 52,
     "metadata": {},
     "output_type": "execute_result"
    }
   ],
   "source": [
    "# Let's fit the model\n",
    "kmeans.fit(kmeans_df.drop('label', axis=1))\n",
    "kmeans.cluster_centers_"
   ]
  },
  {
   "cell_type": "code",
   "execution_count": 53,
   "metadata": {},
   "outputs": [
    {
     "name": "stdout",
     "output_type": "stream",
     "text": [
      "Confusion Matrix\n",
      "[[7053 2518]\n",
      " [7084 2487]]\n"
     ]
    }
   ],
   "source": [
    "## evaluate bc we do happen to have the labels\n",
    "print('Confusion Matrix')\n",
    "print(confusion_matrix(kmeans_df['label'], kmeans.labels_))"
   ]
  },
  {
   "cell_type": "code",
   "execution_count": 54,
   "metadata": {},
   "outputs": [
    {
     "name": "stdout",
     "output_type": "stream",
     "text": [
      "Classification Report\n",
      "              precision    recall  f1-score   support\n",
      "\n",
      "           0       0.50      0.74      0.59      9571\n",
      "           1       0.50      0.26      0.34      9571\n",
      "\n",
      "    accuracy                           0.50     19142\n",
      "   macro avg       0.50      0.50      0.47     19142\n",
      "weighted avg       0.50      0.50      0.47     19142\n",
      "\n"
     ]
    }
   ],
   "source": [
    "print('Classification Report')\n",
    "print(classification_report(kmeans_df['label'], kmeans.labels_))"
   ]
  },
  {
   "cell_type": "markdown",
   "metadata": {},
   "source": [
    "It seems our model is not able to classify the data into clean clusters very well. We are seeing precision and accuracy at only 50%, which is not very good. Let's visualize it to see what is happening."
   ]
  },
  {
   "cell_type": "code",
   "execution_count": 55,
   "metadata": {},
   "outputs": [
    {
     "data": {
      "image/png": "[encoded data removed]",
      "text/plain": [
       "<Figure size 360x720 with 1 Axes>"
      ]
     },
     "metadata": {},
     "output_type": "display_data"
    }
   ],
   "source": [
    "labels = kmeans.fit_predict(kmeans_df)\n",
    "filtered_label0 = kmeans_df[labels == 0]\n",
    "filtered_label1 = kmeans_df[labels == 1] \n",
    "plt.scatter(filtered_label0.iloc[:, 2],filtered_label0.iloc[:, 3], color = 'red', label = 'non_humorous')\n",
    "plt.scatter(filtered_label1.iloc[:, 2],filtered_label1.iloc[:, 3], color = 'blue', label = 'humorous')\n",
    "plt.legend()\n",
    "plt.title('KMean Clusers')\n",
    "plt.xlabel('Sentiment Compound Score')\n",
    "plt.ylabel('Avg. Word Length');"
   ]
  },
  {
   "cell_type": "code",
   "execution_count": 56,
   "metadata": {},
   "outputs": [
    {
     "data": {
      "image/png": "[encoded data removed]",
      "text/plain": [
       "<Figure size 360x720 with 1 Axes>"
      ]
     },
     "metadata": {},
     "output_type": "display_data"
    }
   ],
   "source": [
    "labels = kmeans.fit_predict(kmeans_df)\n",
    "filtered_label0 = kmeans_df[labels == 0]\n",
    "filtered_label1 = kmeans_df[labels == 1] \n",
    "plt.scatter(filtered_label0.iloc[:, 2],filtered_label0.iloc[:, 1], color = 'red', label = 'non_humorous')\n",
    "plt.scatter(filtered_label1.iloc[:, 2],filtered_label1.iloc[:, 1], color = 'blue', label = 'humorous')\n",
    "plt.legend()\n",
    "plt.title('KMean Clusers')\n",
    "plt.xlabel('Sentiment Compound Score')\n",
    "plt.ylabel('Number of Words');"
   ]
  },
  {
   "cell_type": "markdown",
   "metadata": {},
   "source": [
    "It seems like the model is not doing well in some respects but in others it is. Maybe it is actually better to plot this as a 3D shape. "
   ]
  },
  {
   "cell_type": "code",
   "execution_count": 57,
   "metadata": {},
   "outputs": [
    {
     "data": {
      "image/png": "[encoded data removed]",
      "text/plain": [
       "<Figure size 360x720 with 1 Axes>"
      ]
     },
     "metadata": {},
     "output_type": "display_data"
    }
   ],
   "source": [
    "fig = plt.figure()\n",
    "ax = plt.axes(projection='3d')\n",
    "xdata = combined_df['sentiment compound score']\n",
    "zdata = combined_df['number of words']\n",
    "ydata = combined_df['avg word length']\n",
    "ax.scatter3D(xdata, ydata, zdata, c=combined_df['label']);"
   ]
  },
  {
   "cell_type": "markdown",
   "metadata": {},
   "source": [
    "Well that does not clarify the groups for us any more than before. Let's continue."
   ]
  },
  {
   "cell_type": "markdown",
   "metadata": {},
   "source": [
    "#### 2b. KMeans with more Features\n",
    "take top 20 most frequent humorous and 20 most non_humorous. Add as columns to \"combined\". If they have that word in \"clean > 3\", column = 1, else = 0 "
   ]
  },
  {
   "cell_type": "code",
   "execution_count": 58,
   "metadata": {},
   "outputs": [],
   "source": [
    "non_humorous_list = list(merged_words_df.sort_values(by=['non_humorous'], ascending=False).head(50)['word'])\n",
    "humorous_list = list(merged_words_df.sort_values(by=['humorous'], ascending=False).head(50)['word'])\n",
    "wordsList = non_humorous_list   #we will merge the two word-lists together\n",
    "for word in humorous_list:\n",
    "    if word not in wordsList:\n",
    "        wordsList.append(word)"
   ]
  },
  {
   "cell_type": "code",
   "execution_count": 59,
   "metadata": {},
   "outputs": [],
   "source": [
    "for word in wordsList:\n",
    "    combined_df[word] = 0"
   ]
  },
  {
   "cell_type": "code",
   "execution_count": 60,
   "metadata": {},
   "outputs": [
    {
     "name": "stderr",
     "output_type": "stream",
     "text": [
      "<ipython-input-60-2b7559fd6f75>:4: SettingWithCopyWarning: \n",
      "A value is trying to be set on a copy of a slice from a DataFrame\n",
      "\n",
      "See the caveats in the documentation: https://pandas.pydata.org/pandas-docs/stable/user_guide/indexing.html#returning-a-view-versus-a-copy\n",
      "  combined_df.loc[row][word] += 1\n"
     ]
    }
   ],
   "source": [
    "for row in range(len(combined_df)):\n",
    "    for word in combined_df.loc[row]['stemmed']: \n",
    "        if word in wordsList:\n",
    "            combined_df.loc[row][word] += 1\n",
    "        else: \n",
    "            pass"
   ]
  },
  {
   "cell_type": "markdown",
   "metadata": {},
   "source": [
    "### Retry KMeans\n",
    "\n",
    "Let's now take the top 20 humorous words and the top 20 non_humorous words and add them as columns to the 'combined_df' dataframe. After this we will put a counter for each time a word (column) appears in the question (row), the counter for that word in that row will increase by 1. We will use this for the model."
   ]
  },
  {
   "cell_type": "code",
   "execution_count": 61,
   "metadata": {},
   "outputs": [
    {
     "data": {
      "text/html": [
       "<div>\n",
       "<style scoped>\n",
       "    .dataframe tbody tr th:only-of-type {\n",
       "        vertical-align: middle;\n",
       "    }\n",
       "\n",
       "    .dataframe tbody tr th {\n",
       "        vertical-align: top;\n",
       "    }\n",
       "\n",
       "    .dataframe thead th {\n",
       "        text-align: right;\n",
       "    }\n",
       "</style>\n",
       "<table border=\"1\" class=\"dataframe\">\n",
       "  <thead>\n",
       "    <tr style=\"text-align: right;\">\n",
       "      <th></th>\n",
       "      <th>label</th>\n",
       "      <th>number of words</th>\n",
       "      <th>sentiment compound score</th>\n",
       "      <th>avg word length</th>\n",
       "      <th>what</th>\n",
       "      <th>come</th>\n",
       "      <th>work</th>\n",
       "      <th>would</th>\n",
       "      <th>size</th>\n",
       "      <th>will</th>\n",
       "      <th>...</th>\n",
       "      <th>thing</th>\n",
       "      <th>hous</th>\n",
       "      <th>becom</th>\n",
       "      <th>friend</th>\n",
       "      <th>watch</th>\n",
       "      <th>unicorn</th>\n",
       "      <th>enough</th>\n",
       "      <th>also</th>\n",
       "      <th>trump</th>\n",
       "      <th>play</th>\n",
       "    </tr>\n",
       "  </thead>\n",
       "  <tbody>\n",
       "    <tr>\n",
       "      <th>0</th>\n",
       "      <td>1</td>\n",
       "      <td>4</td>\n",
       "      <td>0.0</td>\n",
       "      <td>6.25</td>\n",
       "      <td>0</td>\n",
       "      <td>0</td>\n",
       "      <td>0</td>\n",
       "      <td>0</td>\n",
       "      <td>0</td>\n",
       "      <td>0</td>\n",
       "      <td>...</td>\n",
       "      <td>0</td>\n",
       "      <td>0</td>\n",
       "      <td>0</td>\n",
       "      <td>0</td>\n",
       "      <td>0</td>\n",
       "      <td>0</td>\n",
       "      <td>0</td>\n",
       "      <td>0</td>\n",
       "      <td>0</td>\n",
       "      <td>NaN</td>\n",
       "    </tr>\n",
       "    <tr>\n",
       "      <th>1</th>\n",
       "      <td>1</td>\n",
       "      <td>4</td>\n",
       "      <td>0.0</td>\n",
       "      <td>7.50</td>\n",
       "      <td>0</td>\n",
       "      <td>0</td>\n",
       "      <td>0</td>\n",
       "      <td>0</td>\n",
       "      <td>0</td>\n",
       "      <td>0</td>\n",
       "      <td>...</td>\n",
       "      <td>0</td>\n",
       "      <td>0</td>\n",
       "      <td>0</td>\n",
       "      <td>0</td>\n",
       "      <td>0</td>\n",
       "      <td>0</td>\n",
       "      <td>0</td>\n",
       "      <td>0</td>\n",
       "      <td>0</td>\n",
       "      <td>NaN</td>\n",
       "    </tr>\n",
       "  </tbody>\n",
       "</table>\n",
       "<p>2 rows × 76 columns</p>\n",
       "</div>"
      ],
      "text/plain": [
       "   label  number of words  sentiment compound score  avg word length  what  \\\n",
       "0      1                4                       0.0             6.25     0   \n",
       "1      1                4                       0.0             7.50     0   \n",
       "\n",
       "   come  work  would  size  will  ...  thing  hous  becom  friend  watch  \\\n",
       "0     0     0      0     0     0  ...      0     0      0       0      0   \n",
       "1     0     0      0     0     0  ...      0     0      0       0      0   \n",
       "\n",
       "   unicorn  enough  also  trump  play  \n",
       "0        0       0     0      0   NaN  \n",
       "1        0       0     0      0   NaN  \n",
       "\n",
       "[2 rows x 76 columns]"
      ]
     },
     "execution_count": 61,
     "metadata": {},
     "output_type": "execute_result"
    }
   ],
   "source": [
    "kmeans = KMeans(n_clusters=2)\n",
    "kmeans_df = pd.DataFrame(combined_df, columns=['label', 'number of words', \n",
    "       'sentiment compound score', 'avg word length',\n",
    "       'what', 'come', 'work', 'would', 'size', 'will', 'like', 'ship',\n",
    "       'product', 'made', 'need', 'long', 'order', 'want', 'anyon', 'mani',\n",
    "       'item', 'know', 'make', 'look', 'zombi', 'help', 'girl', 'kill', 'wear',\n",
    "       'pictur', 'take', 'good', 'realli', 'thank', 'much', 'amazon', 'where',\n",
    "       'price', 'differ', 'batteri', 'game', 'purchas', 'back', 'free', 'time',\n",
    "       'actual', 'real', 'year', 'avail', 'could', 'color', 'small', 'light',\n",
    "       'version', 'review', 'water', 'includ', 'blade', 'peopl', 'think',\n",
    "       'give', 'power', 'life', 'turn', 'banana', 'wife', 'thing', 'hous',\n",
    "       'becom', 'friend', 'watch', 'unicorn', 'enough', 'also', 'trump',\n",
    "       'play']).copy()\n",
    "kmeans_df.head(2)"
   ]
  },
  {
   "cell_type": "code",
   "execution_count": 62,
   "metadata": {},
   "outputs": [],
   "source": [
    "kmeans_df.drop('play', axis=1, inplace=True)"
   ]
  },
  {
   "cell_type": "code",
   "execution_count": 63,
   "metadata": {},
   "outputs": [
    {
     "data": {
      "text/plain": [
       "array([[9.57882118, 0.13713013, 5.77080285, 0.        , 0.        ,\n",
       "        0.        , 0.        , 0.        , 0.        , 0.        ,\n",
       "        0.        , 0.        , 0.        , 0.        , 0.        ,\n",
       "        0.        , 0.        , 0.        , 0.        , 0.        ,\n",
       "        0.        , 0.        , 0.        , 0.        , 0.        ,\n",
       "        0.        , 0.        , 0.        , 0.        , 0.        ,\n",
       "        0.        , 0.        , 0.        , 0.        , 0.        ,\n",
       "        0.        , 0.        , 0.        , 0.        , 0.        ,\n",
       "        0.        , 0.        , 0.        , 0.        , 0.        ,\n",
       "        0.        , 0.        , 0.        , 0.        , 0.        ,\n",
       "        0.        , 0.        , 0.        , 0.        , 0.        ,\n",
       "        0.        , 0.        , 0.        , 0.        , 0.        ,\n",
       "        0.        , 0.        , 0.        , 0.        , 0.        ,\n",
       "        0.        , 0.        , 0.        , 0.        , 0.        ,\n",
       "        0.        , 0.        , 0.        , 0.        ],\n",
       "       [3.40786588, 0.0479562 , 5.49569805, 0.        , 0.        ,\n",
       "        0.        , 0.        , 0.        , 0.        , 0.        ,\n",
       "        0.        , 0.        , 0.        , 0.        , 0.        ,\n",
       "        0.        , 0.        , 0.        , 0.        , 0.        ,\n",
       "        0.        , 0.        , 0.        , 0.        , 0.        ,\n",
       "        0.        , 0.        , 0.        , 0.        , 0.        ,\n",
       "        0.        , 0.        , 0.        , 0.        , 0.        ,\n",
       "        0.        , 0.        , 0.        , 0.        , 0.        ,\n",
       "        0.        , 0.        , 0.        , 0.        , 0.        ,\n",
       "        0.        , 0.        , 0.        , 0.        , 0.        ,\n",
       "        0.        , 0.        , 0.        , 0.        , 0.        ,\n",
       "        0.        , 0.        , 0.        , 0.        , 0.        ,\n",
       "        0.        , 0.        , 0.        , 0.        , 0.        ,\n",
       "        0.        , 0.        , 0.        , 0.        , 0.        ,\n",
       "        0.        , 0.        , 0.        , 0.        ]])"
      ]
     },
     "execution_count": 63,
     "metadata": {},
     "output_type": "execute_result"
    }
   ],
   "source": [
    "kmeans.fit(kmeans_df.drop('label', axis=1))\n",
    "kmeans.cluster_centers_"
   ]
  },
  {
   "cell_type": "code",
   "execution_count": 64,
   "metadata": {},
   "outputs": [
    {
     "name": "stdout",
     "output_type": "stream",
     "text": [
      "confusion matrix\n",
      "[[2518 7053]\n",
      " [2487 7084]]\n",
      "              precision    recall  f1-score   support\n",
      "\n",
      "           0       0.50      0.26      0.35      9571\n",
      "           1       0.50      0.74      0.60      9571\n",
      "\n",
      "    accuracy                           0.50     19142\n",
      "   macro avg       0.50      0.50      0.47     19142\n",
      "weighted avg       0.50      0.50      0.47     19142\n",
      "\n"
     ]
    }
   ],
   "source": [
    "print('confusion matrix')\n",
    "print(confusion_matrix(kmeans_df['label'], kmeans.labels_))\n",
    "print(classification_report(kmeans_df['label'], kmeans.labels_))"
   ]
  },
  {
   "cell_type": "markdown",
   "metadata": {},
   "source": [
    "We got the almost the same results as before. Let's try an ensemble with Random Forest Regression"
   ]
  },
  {
   "cell_type": "markdown",
   "metadata": {},
   "source": [
    "#### 3. Random Forest Regression Ensemble\n",
    "Hopefully this model is able to run better than the others. We will use the new 'combined_df' for this model"
   ]
  },
  {
   "cell_type": "code",
   "execution_count": 65,
   "metadata": {},
   "outputs": [],
   "source": [
    "labels_df = pd.DataFrame(combined_df, columns=['label', \n",
    "       'number of words', 'sentiment compound score', 'avg word length',\n",
    "       'what', 'come', 'work', 'would', 'size', 'will', 'like', 'ship',\n",
    "       'product', 'made', 'need', 'long', 'order', 'want', 'anyon', 'mani',\n",
    "       'item', 'know', 'make', 'look', 'zombi', 'help', 'girl', 'kill', 'wear',\n",
    "       'pictur', 'take', 'good', 'realli', 'thank', 'much', 'amazon', 'where',\n",
    "       'price', 'differ', 'batteri', 'game', 'purchas', 'back', 'free', 'time',\n",
    "       'actual', 'real', 'year', 'avail', 'could', 'color', 'small', 'light',\n",
    "       'version', 'review', 'water', 'includ', 'blade', 'peopl', 'think',\n",
    "       'give', 'power', 'life', 'turn', 'banana', 'wife', 'thing', 'hous',\n",
    "       'becom', 'friend', 'watch', 'unicorn', 'enough', 'also', 'trump'])"
   ]
  },
  {
   "cell_type": "markdown",
   "metadata": {},
   "source": [
    "0.5 is the median between 1 and 0 (humorous and non_humorous labels). Let's make a baseline to know if our model performs well."
   ]
  },
  {
   "cell_type": "code",
   "execution_count": 66,
   "metadata": {},
   "outputs": [],
   "source": [
    "labels_df['avg cat'] = .5"
   ]
  },
  {
   "cell_type": "code",
   "execution_count": 67,
   "metadata": {},
   "outputs": [],
   "source": [
    "#set up predictions and features\n",
    "predict_label = np.array(labels_df['label'])\n",
    "labels_df.drop('label', axis = 1, inplace=True)\n",
    "\n",
    "feature_list = list(labels_df.columns)\n",
    "features_array = np.array(labels_df)"
   ]
  },
  {
   "cell_type": "markdown",
   "metadata": {},
   "source": [
    "We will use a train-test split again for this model"
   ]
  },
  {
   "cell_type": "code",
   "execution_count": 68,
   "metadata": {},
   "outputs": [],
   "source": [
    "train_x, test_x, train_y, test_y = train_test_split(features_array, predict_label, test_size = .2, random_state=101)"
   ]
  },
  {
   "cell_type": "code",
   "execution_count": 69,
   "metadata": {},
   "outputs": [],
   "source": [
    "sc = StandardScaler()\n",
    "train_x = sc.fit_transform(train_x)\n",
    "test_x = sc.transform(test_x)"
   ]
  },
  {
   "cell_type": "code",
   "execution_count": 70,
   "metadata": {},
   "outputs": [
    {
     "name": "stdout",
     "output_type": "stream",
     "text": [
      "Training x (15313, 75)\n",
      "Training y (15313,)\n",
      "Test x (3829, 75)\n",
      "Test y (3829,)\n"
     ]
    }
   ],
   "source": [
    "print('Training x', train_x.shape)\n",
    "print('Training y', train_y.shape)\n",
    "print('Test x', test_x.shape)\n",
    "print('Test y', test_y.shape)"
   ]
  },
  {
   "cell_type": "code",
   "execution_count": 71,
   "metadata": {},
   "outputs": [],
   "source": [
    "#set baseline, if cannot improve on baseline then this is not the right model for the dataset\n",
    "baseline_predictions = test_x[:, feature_list.index('avg cat')]\n",
    "baseline_errors = abs(baseline_predictions - test_y)"
   ]
  },
  {
   "cell_type": "code",
   "execution_count": 72,
   "metadata": {},
   "outputs": [
    {
     "data": {
      "text/plain": [
       "0.501436406372421"
      ]
     },
     "execution_count": 72,
     "metadata": {},
     "output_type": "execute_result"
    }
   ],
   "source": [
    "np.mean(baseline_errors)"
   ]
  },
  {
   "cell_type": "code",
   "execution_count": 74,
   "metadata": {},
   "outputs": [],
   "source": [
    "ranForest = RandomForestRegressor(n_estimators=1000, random_state=101)\n",
    "ranForest.fit(train_x, train_y)\n",
    "predictions = ranForest.predict(test_x)\n",
    "errors = abs(predictions - test_y)"
   ]
  },
  {
   "cell_type": "code",
   "execution_count": 75,
   "metadata": {},
   "outputs": [
    {
     "name": "stdout",
     "output_type": "stream",
     "text": [
      "MAE:  0.4098 degrees.\n"
     ]
    }
   ],
   "source": [
    "# Mean Absolute Error \n",
    "print('MAE: ', round(np.mean(errors), 4), 'degrees.')"
   ]
  },
  {
   "cell_type": "code",
   "execution_count": null,
   "metadata": {},
   "outputs": [
    {
     "name": "stdout",
     "output_type": "stream",
     "text": [
      "MAE:  0.4541 degrees.\n"
     ]
    }
   ],
   "source": [
    "from sklearn.ensemble import RandomForestClassifier\n",
    "ranForest = RandomForestRegressor(n_estimators=1000, random_state=101)\n",
    "ranForest.fit(train_x, train_y)\n",
    "predictions = ranForest.predict(test_x)\n",
    "errors = abs(predictions - test_y)\n",
    "\n",
    "# Mean Absolute Error \n",
    "print('MAE: ', round(np.mean(errors), 4), 'degrees.')"
   ]
  },
  {
   "cell_type": "markdown",
   "metadata": {},
   "source": [
    "Our MAE is lower than our baseline, suggesting that the model does better than average. For now, we will accept this model.\n",
    "\n",
    "Let's visualize one tree."
   ]
  },
  {
   "cell_type": "code",
   "execution_count": null,
   "metadata": {},
   "outputs": [],
   "source": [
    "#visualize the tree\n",
    "estimator = ranForest.estimators_[20]\n",
    "export_graphviz(estimator, \n",
    "                out_file='tree.dot', \n",
    "                rounded = True, proportion = False, \n",
    "                precision = 2, filled = True)\n",
    "from subprocess import call\n",
    "call(['dot', '-Tpng', 'tree.dot', '-o', 'tree.png', '-Gdpi=600'])\n",
    "from IPython.display import Image\n",
    "Image(filename = 'tree.png')"
   ]
  },
  {
   "cell_type": "markdown",
   "metadata": {},
   "source": [
    "# Fin"
   ]
  }
 ],
 "metadata": {
  "interpreter": {
   "hash": "a2b78fcb7268e196d75ddfa14045cfb83c5bc2a69ea876f1bd6556a1609cc126"
  },
  "kernelspec": {
   "display_name": "Python 3.8.5 64-bit ('base': conda)",
   "language": "python",
   "name": "python3"
  },
  "language_info": {
   "codemirror_mode": {
    "name": "ipython",
    "version": 3
   },
   "file_extension": ".py",
   "mimetype": "text/x-python",
   "name": "python",
   "nbconvert_exporter": "python",
   "pygments_lexer": "ipython3",
   "version": "3.8.5"
  },
  "orig_nbformat": 4
 },
 "nbformat": 4,
 "nbformat_minor": 2
}
